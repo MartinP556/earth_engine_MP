{
 "cells": [
  {
   "cell_type": "code",
   "execution_count": 3,
   "id": "72ab0c39-7ebf-43e9-865c-9dcbaf0ec64e",
   "metadata": {},
   "outputs": [
    {
     "data": {
      "text/html": [
       "\n",
       "            <style>\n",
       "                .geemap-dark {\n",
       "                    --jp-widgets-color: white;\n",
       "                    --jp-widgets-label-color: white;\n",
       "                    --jp-ui-font-color1: white;\n",
       "                    --jp-layout-color2: #454545;\n",
       "                    background-color: #383838;\n",
       "                }\n",
       "\n",
       "                .geemap-dark .jupyter-button {\n",
       "                    --jp-layout-color3: #383838;\n",
       "                }\n",
       "\n",
       "                .geemap-colab {\n",
       "                    background-color: var(--colab-primary-surface-color, white);\n",
       "                }\n",
       "\n",
       "                .geemap-colab .jupyter-button {\n",
       "                    --jp-layout-color3: var(--colab-primary-surface-color, white);\n",
       "                }\n",
       "            </style>\n",
       "            "
      ],
      "text/plain": [
       "<IPython.core.display.HTML object>"
      ]
     },
     "metadata": {},
     "output_type": "display_data"
    },
    {
     "name": "stderr",
     "output_type": "stream",
     "text": [
      "*** Earth Engine *** Share your feedback by taking our Annual Developer Satisfaction Survey: https://google.qualtrics.com/jfe/form/SV_7TDKVSyKvBdmMqW?ref=4i2o6\n"
     ]
    }
   ],
   "source": [
    "#import sys\n",
    "#sys.path.append('../../earth_engine_MP/')\n",
    "import ee\n",
    "from google.oauth2 import service_account\n",
    "\n",
    "import numpy as np\n",
    "import pandas as pd\n",
    "import xarray as xr\n",
    "import matplotlib.pyplot as plt\n",
    "import geetools\n",
    "import eemont\n",
    "import geemap\n",
    "from ee_extra.TimeSeries.core import getTimeSeriesByRegion\n",
    "\n",
    "from plot_ee_fctns import get_image_index, box_around_point, mask_other, initialise_comparison\n",
    "from masks import mask_MODIS_clouds, MODIS_Mask_QC, mask_s2_clouds, mask_s2_clouds_collection, csPlus_mask_collection, MODIS_mask_clouds_250m\n",
    "import masks\n",
    "\n",
    "from scipy.interpolate import griddata\n",
    "\n",
    "# Path to the private key file\n",
    "key_path = 'Access/ee-martinparker637-e68fde65abb4.json'\n",
    "\n",
    "# Load the service account credentials\n",
    "credentials = service_account.Credentials.from_service_account_file(\n",
    "    key_path,\n",
    "    scopes=['https://www.googleapis.com/auth/earthengine'])\n",
    "\n",
    "# Initialize Earth Engine with the service account credentials\n",
    "ee.Initialize(credentials)\n",
    "root_directory = ''"
   ]
  },
  {
   "cell_type": "code",
   "execution_count": null,
   "id": "f1160f41-62ae-4d07-9679-dc08f60e9902",
   "metadata": {},
   "outputs": [],
   "source": [
    "ds = xr.open_dataset('Saved_files/gridded_sat/Kenya/LANDSAT/Kenya_LANDSAT_CMG_2002_07.nc')\n",
    "ds[\"time\"] = ds[\"time\"].dt.floor(\"D\")"
   ]
  },
  {
   "cell_type": "code",
   "execution_count": null,
   "id": "0c7ed39a-f4c9-4170-8585-d6890dfa8500",
   "metadata": {},
   "outputs": [],
   "source": [
    "ds[\"time\"] = ds[\"time\"].dt.floor(\"D\")\n",
    "daily_index = pd.date_range(ds.time.min().values, ds.time.max().values, freq='D')\n",
    "ds = ds.groupby('time').max(skipna=True)#ds.drop_duplicates(dim='time')#\n",
    "ds_daily = ds.reindex(time=daily_index)\n",
    "ds_filled = ds_daily.interpolate_na(dim='time', method='linear')#, fill_value=\"extrapolate\")#ds_daily.ffill(dim='time')#"
   ]
  },
  {
   "cell_type": "code",
   "execution_count": null,
   "id": "9dd64e5f-f959-4728-8391-8becbfbb8802",
   "metadata": {},
   "outputs": [],
   "source": [
    "#fig, ax = plt.subplots(1, 2)\n",
    "#ind = 22\n",
    "#ds['SR_B4'].sel(time = ds['time'][ind]).plot(ax = ax[0])\n",
    "#ds_daily['SR_B4'].sel(time = ds['time'][ind]).plot(ax = ax[1])"
   ]
  },
  {
   "cell_type": "code",
   "execution_count": null,
   "id": "0f855ec6-782c-4a62-a594-e1fbbe6995f5",
   "metadata": {},
   "outputs": [],
   "source": [
    "ds_filled['NDVI'].isel(time = 10).T.plot()"
   ]
  },
  {
   "cell_type": "code",
   "execution_count": null,
   "id": "ee3b40bb-7cb1-45ab-9099-be725b9fa8d1",
   "metadata": {},
   "outputs": [],
   "source": [
    "ds_daily.ffill(dim='time').dropna(dim='lon', how='all').dropna(dim='lat', how='all').dropna(dim='time', how='all')"
   ]
  },
  {
   "cell_type": "code",
   "execution_count": null,
   "id": "ed8ddbdd-d196-4a8d-a35f-3025bb314df1",
   "metadata": {},
   "outputs": [],
   "source": [
    "ds = xr.open_dataset('Saved_files/gridded_sat/Kenya/MODIS/Kenya_MODIS_CMG_VIs_2000_2010.nc')"
   ]
  },
  {
   "cell_type": "code",
   "execution_count": null,
   "id": "3112d2ee-9f5f-4f28-beb3-b7a984f7f88d",
   "metadata": {},
   "outputs": [],
   "source": [
    "def open_and_combine_months(year, miss_months = []):\n",
    "    ds = xr.open_dataset(f'Saved_files/gridded_sat/Kenya/LANDSAT/Kenya_LANDSAT_CMG_{year}_01.nc')\n",
    "    ds = daily_mosaic(ds)\n",
    "    for month in range(2, 13):\n",
    "        if month in miss_months:\n",
    "            continue\n",
    "        print(month)\n",
    "        month_name = str(month).zfill(2)\n",
    "        ds_append = xr.open_dataset(f'Saved_files/gridded_sat/Kenya/LANDSAT/Kenya_LANDSAT_CMG_{year}_{month_name}.nc')\n",
    "        ds_append = daily_mosaic(ds_append)\n",
    "        ds = xr.concat([ds, ds_append], \n",
    "                       dim = 'time', \n",
    "                       combine_attrs=\"override\", \n",
    "                       coords=\"minimal\",\n",
    "                       compat=\"override\")\n",
    "        print(ds_append.dims)\n",
    "    return ds"
   ]
  },
  {
   "cell_type": "code",
   "execution_count": null,
   "id": "5ee37caa-16aa-40bb-b0b8-90a642a7bc94",
   "metadata": {},
   "outputs": [],
   "source": [
    "def open_and_combine_months_debug(year, miss_months = []):\n",
    "    ds = xr.open_dataset(f'Saved_files/gridded_sat/Kenya/LANDSAT/Kenya_LANDSAT_CMG_{year}_01.nc')\n",
    "    ds = daily_mosaic(ds)\n",
    "    for month in range(2, 13):\n",
    "        if month in miss_months:\n",
    "            continue\n",
    "        print(month)\n",
    "        month_name = str(month).zfill(2)\n",
    "        ds_append = xr.open_dataset(f'Saved_files/gridded_sat/Kenya/LANDSAT/Kenya_LANDSAT_CMG_{year}_{month_name}.nc')\n",
    "        ds_append = daily_mosaic(ds_append)\n",
    "        for var in ds.data_vars:\n",
    "            if not ds[var].equals(ds_append[var]):\n",
    "                print(f\"Variable {var} differs in month {month}\")\n",
    "        ds = xr.concat([ds, ds_append], dim = 'time', combine_attrs=\"override\", compat=\"override\")\n",
    "        print(ds_append.dims)\n",
    "    return ds"
   ]
  },
  {
   "cell_type": "code",
   "execution_count": null,
   "id": "75c14f35-af9c-4a1f-8167-44de5cc45955",
   "metadata": {},
   "outputs": [],
   "source": [
    "def check_coords2(file_list):\n",
    "    for f in file_list:\n",
    "        with xr.open_dataset(f) as ds:\n",
    "            print(f\"\\n{f}\")\n",
    "            for c in ds.coords:\n",
    "                print(f\"  {c}: shape={ds[c].shape}, dtype={ds[c].dtype}\")"
   ]
  },
  {
   "cell_type": "code",
   "execution_count": null,
   "id": "ed33c298-90fe-4d49-aed4-b1a8321ee01b",
   "metadata": {},
   "outputs": [],
   "source": [
    "def check_coords3(file_list):\n",
    "    ref = xr.open_dataset(file_list[0])\n",
    "    for f in file_list[1:]:\n",
    "        ds = xr.open_dataset(f)\n",
    "        for v in ref.data_vars:\n",
    "            if v not in ds:\n",
    "                print(f\"{f} missing var {v}\")\n",
    "            else:\n",
    "                if ref[v].shape != ds[v].shape:\n",
    "                    print(f\"{f}: {v} shape mismatch {ref[v].shape} vs {ds[v].shape}\")\n",
    "        ds.close()\n",
    "    ref.close()"
   ]
  },
  {
   "cell_type": "code",
   "execution_count": null,
   "id": "a40c1904-6653-4981-a537-664a50d93e7c",
   "metadata": {},
   "outputs": [],
   "source": [
    "def check_coords(file_list):\n",
    "    \"\"\"\n",
    "    Check whether all NetCDF files in file_list share the same coordinates.\n",
    "    Prints mismatches if any.\n",
    "    \"\"\"\n",
    "    ref = xr.open_dataset(file_list[0])\n",
    "    ref_coords = {k: ref.coords[k].values for k in ref.coords}\n",
    "\n",
    "    for f in file_list[1:]:\n",
    "        ds = xr.open_dataset(f)\n",
    "        for k in ref.coords:\n",
    "            if k == 'time':\n",
    "                continue\n",
    "            if k not in ds.coords:\n",
    "                print(f\"{f}: missing coord {k}\")\n",
    "                continue\n",
    "            if not (ref_coords[k] == ds.coords[k].values).all():\n",
    "                print(f\"{f}: coordinate {k} differs\")\n",
    "        # also check for extra coords\n",
    "        for k in ds.coords:\n",
    "            if k not in ref_coords:\n",
    "                print(f\"{f}: has extra coord {k}\")\n",
    "        ds.close()\n",
    "    ref.close()"
   ]
  },
  {
   "cell_type": "code",
   "execution_count": null,
   "id": "1cb6ead1-4b40-4b83-ac21-fe144e894f1a",
   "metadata": {},
   "outputs": [],
   "source": [
    "def combine_months2(year, miss_months):\n",
    "    month_list = list(range(1, 13))\n",
    "    for n in miss_months:\n",
    "        month_list.remove(n)\n",
    "    file_list = [f'Saved_files/gridded_sat/Kenya/LANDSAT/Kenya_LANDSAT_CMG_{year}_{str(n).zfill(2)}.nc' for n in month_list]\n",
    "    datasets = [clean(xr.open_dataset(f)) for f in file_list]\n",
    "    ds = xr.concat(\n",
    "        datasets,\n",
    "        dim=\"time\",\n",
    "        compat=\"override\",\n",
    "        coords=\"minimal\",\n",
    "        combine_attrs=\"override\"\n",
    "    )\n",
    "    ds = daily_mosaic(ds)\n",
    "    return ds"
   ]
  },
  {
   "cell_type": "code",
   "execution_count": null,
   "id": "4e34b880-d209-4906-a8d7-8a1dd60cbf7b",
   "metadata": {},
   "outputs": [],
   "source": [
    "for i, year in enumerate(np.arange(2000, 2025)):\n",
    "    print(year)\n",
    "    if year == 2003:\n",
    "        miss_months = [6]\n",
    "    else:\n",
    "        miss_months = []\n",
    "    ds_new = combine_months2(year, miss_months = miss_months)\n",
    "    ds_new.to_netcdf(f'Saved_files/gridded_sat/Kenya/LANDSAT_PROCESSED/Kenya_LANDSAT_CMG_{year}.nc')"
   ]
  },
  {
   "cell_type": "code",
   "execution_count": null,
   "id": "04c4c1ae-8c55-41af-848d-dfe4070eb006",
   "metadata": {},
   "outputs": [],
   "source": [
    "ds_list=[]\n",
    "for i, year in enumerate(np.arange(2000, 2025)):\n",
    "    ds_list.append(xr.open_dataset(f'Saved_files/gridded_sat/Kenya/LANDSAT_PROCESSED/Kenya_LANDSAT_CMG_{year}.nc'))\n",
    "    "
   ]
  }
 ],
 "metadata": {
  "kernelspec": {
   "display_name": "earthengine_venv",
   "language": "python",
   "name": "earthengine_venv"
  },
  "language_info": {
   "codemirror_mode": {
    "name": "ipython",
    "version": 3
   },
   "file_extension": ".py",
   "mimetype": "text/x-python",
   "name": "python",
   "nbconvert_exporter": "python",
   "pygments_lexer": "ipython3",
   "version": "3.11.9"
  }
 },
 "nbformat": 4,
 "nbformat_minor": 5
}
