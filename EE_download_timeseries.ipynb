{
 "cells": [
  {
   "cell_type": "code",
   "execution_count": 31,
   "metadata": {},
   "outputs": [],
   "source": [
    "import ee\n",
    "import geemap\n",
    "from google.oauth2 import service_account\n",
    "\n",
    "import numpy as np\n",
    "import pandas as pd\n",
    "import matplotlib.pyplot as plt\n",
    "\n",
    "import download_fctns\n",
    "\n",
    "import masks\n",
    "from masks import mask_MODIS_clouds, MODIS_Mask_QC, mask_s2_clouds, mask_s2_clouds_collection, worldcereal_mask\n",
    "\n",
    "\n",
    "# Path to the private key file\n",
    "key_path = 'Access/ee-martinparker637-e68fde65abb4.json'\n",
    "\n",
    "# Load the service account credentials\n",
    "credentials = service_account.Credentials.from_service_account_file(\n",
    "    key_path,\n",
    "    scopes=['https://www.googleapis.com/auth/earthengine'])\n",
    "\n",
    "# Initialize Earth Engine with the service account credentials\n",
    "ee.Initialize(credentials)"
   ]
  },
  {
   "cell_type": "code",
   "execution_count": 32,
   "metadata": {},
   "outputs": [
    {
     "data": {
      "text/html": [
       "\n",
       "            <style>\n",
       "                .geemap-dark {\n",
       "                    --jp-widgets-color: white;\n",
       "                    --jp-widgets-label-color: white;\n",
       "                    --jp-ui-font-color1: white;\n",
       "                    --jp-layout-color2: #454545;\n",
       "                    background-color: #383838;\n",
       "                }\n",
       "\n",
       "                .geemap-dark .jupyter-button {\n",
       "                    --jp-layout-color3: #383838;\n",
       "                }\n",
       "\n",
       "                .geemap-colab {\n",
       "                    background-color: var(--colab-primary-surface-color, white);\n",
       "                }\n",
       "\n",
       "                .geemap-colab .jupyter-button {\n",
       "                    --jp-layout-color3: var(--colab-primary-surface-color, white);\n",
       "                }\n",
       "            </style>\n",
       "            "
      ],
      "text/plain": [
       "<IPython.core.display.HTML object>"
      ]
     },
     "metadata": {},
     "output_type": "display_data"
    }
   ],
   "source": [
    "import ee\n",
    "import ee.batch\n",
    "import eemont\n",
    "import masks\n",
    "import os\n",
    "import pandas as pd\n",
    "import numpy as np\n",
    "\n",
    "def download_ndvi(year, grid_cell_lon, grid_cell_lat, filepath, crop_type='ww', N=10, country = 'DE', crop = 'Winter wheat'):\n",
    "    \n",
    "    \"\"\"given a grid of coordinates, download the ndvi data masked to crop type, \n",
    "    for a 'representative field' for each grid cell\"\"\"\n",
    "    country_codes = {'DE': 93,\n",
    "                    'KEN': 133}\n",
    "    product_codes = {'M': 'product == \"maize\"',\n",
    "                     'ww': 'product == \"wintercereals\"'}\n",
    "    save_path = filepath #f'ndvi_download/{crop_type}_{year}_{grid_cell_lon:.4f}_{grid_cell_lat:.4f}_s2.csv'\n",
    "    #swap for engcrop when on gee\n",
    "    #uk_outline = ee.FeatureCollection('FAO/GAUL/2015/level0').filterMetadata('ADM0_CODE','equals',256)\n",
    "    country_outline = ee.FeatureCollection('FAO/GAUL/2015/level0').filterMetadata('ADM0_CODE','equals',country_codes[country])\n",
    "    \n",
    "    # cropland = ee.FeatureCollection(\"users/spiruel/crop_labels/CEH_cropmap2021\")\n",
    "    # crop = cropland.filterMetadata('crop_code','equals',crop_type)\n",
    "    world_cereals = ee.ImageCollection('ESA/WorldCereal/2021/MODELS/v100')\n",
    "    # Get a global mosaic for all agro-ecological zone (AEZ) of winter wheat\n",
    "    crop = world_cereals.filter(product_codes[crop_type]).mosaic().select('classification').gte(0)\n",
    "\n",
    "    # proj = ee.Projection('EPSG:27700')\n",
    "\n",
    "    #for each grid cell, find the representative field\n",
    "    #buffer each point by 12km (/2) (the scale of the GCM data)\n",
    "    grid_cell = ee.Geometry.Point(grid_cell_lat, grid_cell_lon).buffer(12000//2).bounds()\n",
    "\n",
    "    #get sentinel 2 ndvi data\n",
    "    s2 = ee.ImageCollection('COPERNICUS/S2_SR_HARMONIZED')\n",
    "    s2 = s2.spectralIndices(['NDVI'])\n",
    "\n",
    "    s2_filtered = masks.csPlus_mask_collection(s2).filterDate(f'{year-1}-01-01', f'{year}-12-31').filterBounds(country_outline)\n",
    "\n",
    "    print(f'downloading ndvi for {crop_type}_{year}_{grid_cell_lon:.2f}_{grid_cell_lat:.2f}')\n",
    "    #get the geometry of the field\n",
    "    # geom = ee.Feature(crop).geometry()\n",
    "    region = crop.clip(grid_cell).geometry()\n",
    "    \n",
    "    vectors = crop.reduceToVectors(**{\n",
    "        'geometry': region,\n",
    "        'scale': 100,\n",
    "        'maxPixels': 1e13,\n",
    "        'bestEffort':True,\n",
    "        'eightConnected': False,\n",
    "        })#.map(lambda x: x.buffer(-20))\n",
    "\n",
    "    random_points = ee.FeatureCollection.randomPoints(**{'region': vectors, 'points': N, 'seed': 42, 'maxError': 1})\n",
    "\n",
    "    #get the data for the field by reducing the image collection to the field geometry\n",
    "    #get NDVI and spectral bands from S2\n",
    "    s2_bands = ['NDVI','cs','cs_cdf']\n",
    "    ts_s2 = s2_filtered.select(s2_bands).getTimeSeriesByRegion(**{\n",
    "      'reducer': ee.Reducer.mean(),\n",
    "      'geometry': random_points,#.buffer(10),\n",
    "      'scale': 10,\n",
    "      'maxPixels': 1e9\n",
    "    })\n",
    "\n",
    "    return ts_s2\n",
    "    "
   ]
  },
  {
   "cell_type": "code",
   "execution_count": 14,
   "metadata": {},
   "outputs": [],
   "source": [
    "root_directory = ''"
   ]
  },
  {
   "cell_type": "code",
   "execution_count": 15,
   "metadata": {},
   "outputs": [],
   "source": [
    "coords = np.loadtxt(root_directory + \"Saved_files/station_coords.csv\", delimiter=',')"
   ]
  },
  {
   "cell_type": "code",
   "execution_count": 19,
   "metadata": {},
   "outputs": [],
   "source": [
    "coord = coords[0]\n",
    "year = 2019\n",
    "filepath = 'Sentinel/Kenya/SatData0'"
   ]
  },
  {
   "cell_type": "code",
   "execution_count": 34,
   "metadata": {},
   "outputs": [
    {
     "data": {
      "text/html": [
       "\n",
       "            <style>\n",
       "                .geemap-dark {\n",
       "                    --jp-widgets-color: white;\n",
       "                    --jp-widgets-label-color: white;\n",
       "                    --jp-ui-font-color1: white;\n",
       "                    --jp-layout-color2: #454545;\n",
       "                    background-color: #383838;\n",
       "                }\n",
       "\n",
       "                .geemap-dark .jupyter-button {\n",
       "                    --jp-layout-color3: #383838;\n",
       "                }\n",
       "\n",
       "                .geemap-colab {\n",
       "                    background-color: var(--colab-primary-surface-color, white);\n",
       "                }\n",
       "\n",
       "                .geemap-colab .jupyter-button {\n",
       "                    --jp-layout-color3: var(--colab-primary-surface-color, white);\n",
       "                }\n",
       "            </style>\n",
       "            "
      ],
      "text/plain": [
       "<IPython.core.display.HTML object>"
      ]
     },
     "metadata": {},
     "output_type": "display_data"
    },
    {
     "name": "stdout",
     "output_type": "stream",
     "text": [
      "downloading ndvi for ww_2019_9.43_54.78\n"
     ]
    }
   ],
   "source": [
    "ts_s2 = download_ndvi(year, coord[1], coord[0], filepath, crop_type='M', N=10, country = 'DE')"
   ]
  },
  {
   "cell_type": "code",
   "execution_count": 35,
   "metadata": {},
   "outputs": [
    {
     "data": {
      "text/html": [
       "\n",
       "            <style>\n",
       "                .geemap-dark {\n",
       "                    --jp-widgets-color: white;\n",
       "                    --jp-widgets-label-color: white;\n",
       "                    --jp-ui-font-color1: white;\n",
       "                    --jp-layout-color2: #454545;\n",
       "                    background-color: #383838;\n",
       "                }\n",
       "\n",
       "                .geemap-dark .jupyter-button {\n",
       "                    --jp-layout-color3: #383838;\n",
       "                }\n",
       "\n",
       "                .geemap-colab {\n",
       "                    background-color: var(--colab-primary-surface-color, white);\n",
       "                }\n",
       "\n",
       "                .geemap-colab .jupyter-button {\n",
       "                    --jp-layout-color3: var(--colab-primary-surface-color, white);\n",
       "                }\n",
       "            </style>\n",
       "            "
      ],
      "text/plain": [
       "<IPython.core.display.HTML object>"
      ]
     },
     "metadata": {},
     "output_type": "display_data"
    },
    {
     "ename": "Exception",
     "evalue": "FeatureCollection.randomPoints: RandomPoints: Region must not be empty.",
     "output_type": "error",
     "traceback": [
      "\u001b[0;31m---------------------------------------------------------------------------\u001b[0m",
      "\u001b[0;31mHttpError\u001b[0m                                 Traceback (most recent call last)",
      "File \u001b[0;32m~/.local/lib/python3.11/site-packages/ee/data.py:406\u001b[0m, in \u001b[0;36m_execute_cloud_call\u001b[0;34m(call, num_retries)\u001b[0m\n\u001b[1;32m    405\u001b[0m \u001b[38;5;28;01mtry\u001b[39;00m:\n\u001b[0;32m--> 406\u001b[0m   \u001b[38;5;28;01mreturn\u001b[39;00m \u001b[43mcall\u001b[49m\u001b[38;5;241;43m.\u001b[39;49m\u001b[43mexecute\u001b[49m\u001b[43m(\u001b[49m\u001b[43mnum_retries\u001b[49m\u001b[38;5;241;43m=\u001b[39;49m\u001b[43mnum_retries\u001b[49m\u001b[43m)\u001b[49m\n\u001b[1;32m    407\u001b[0m \u001b[38;5;28;01mexcept\u001b[39;00m googleapiclient\u001b[38;5;241m.\u001b[39merrors\u001b[38;5;241m.\u001b[39mHttpError \u001b[38;5;28;01mas\u001b[39;00m e:\n",
      "File \u001b[0;32m~/.local/lib/python3.11/site-packages/googleapiclient/_helpers.py:130\u001b[0m, in \u001b[0;36mpositional.<locals>.positional_decorator.<locals>.positional_wrapper\u001b[0;34m(*args, **kwargs)\u001b[0m\n\u001b[1;32m    129\u001b[0m         logger\u001b[38;5;241m.\u001b[39mwarning(message)\n\u001b[0;32m--> 130\u001b[0m \u001b[38;5;28;01mreturn\u001b[39;00m \u001b[43mwrapped\u001b[49m\u001b[43m(\u001b[49m\u001b[38;5;241;43m*\u001b[39;49m\u001b[43margs\u001b[49m\u001b[43m,\u001b[49m\u001b[43m \u001b[49m\u001b[38;5;241;43m*\u001b[39;49m\u001b[38;5;241;43m*\u001b[39;49m\u001b[43mkwargs\u001b[49m\u001b[43m)\u001b[49m\n",
      "File \u001b[0;32m~/.local/lib/python3.11/site-packages/googleapiclient/http.py:938\u001b[0m, in \u001b[0;36mHttpRequest.execute\u001b[0;34m(self, http, num_retries)\u001b[0m\n\u001b[1;32m    937\u001b[0m \u001b[38;5;28;01mif\u001b[39;00m resp\u001b[38;5;241m.\u001b[39mstatus \u001b[38;5;241m>\u001b[39m\u001b[38;5;241m=\u001b[39m \u001b[38;5;241m300\u001b[39m:\n\u001b[0;32m--> 938\u001b[0m     \u001b[38;5;28;01mraise\u001b[39;00m HttpError(resp, content, uri\u001b[38;5;241m=\u001b[39m\u001b[38;5;28mself\u001b[39m\u001b[38;5;241m.\u001b[39muri)\n\u001b[1;32m    939\u001b[0m \u001b[38;5;28;01mreturn\u001b[39;00m \u001b[38;5;28mself\u001b[39m\u001b[38;5;241m.\u001b[39mpostproc(resp, content)\n",
      "\u001b[0;31mHttpError\u001b[0m: <HttpError 400 when requesting https://earthengine.googleapis.com/v1/projects/earthengine-legacy/table:computeFeatures?alt=json returned \"FeatureCollection.randomPoints: RandomPoints: Region must not be empty.\". Details: \"FeatureCollection.randomPoints: RandomPoints: Region must not be empty.\">",
      "\nDuring handling of the above exception, another exception occurred:\n",
      "\u001b[0;31mEEException\u001b[0m                               Traceback (most recent call last)",
      "File \u001b[0;32m~/.local/lib/python3.11/site-packages/geemap/common.py:8790\u001b[0m, in \u001b[0;36mee_to_df\u001b[0;34m(ee_object, columns, remove_geom, sort_columns, **kwargs)\u001b[0m\n\u001b[1;32m   8788\u001b[0m kwargs[\u001b[38;5;124m\"\u001b[39m\u001b[38;5;124mfileFormat\u001b[39m\u001b[38;5;124m\"\u001b[39m] \u001b[38;5;241m=\u001b[39m \u001b[38;5;124m\"\u001b[39m\u001b[38;5;124mPANDAS_DATAFRAME\u001b[39m\u001b[38;5;124m\"\u001b[39m\n\u001b[0;32m-> 8790\u001b[0m df \u001b[38;5;241m=\u001b[39m \u001b[43mee\u001b[49m\u001b[38;5;241;43m.\u001b[39;49m\u001b[43mdata\u001b[49m\u001b[38;5;241;43m.\u001b[39;49m\u001b[43mcomputeFeatures\u001b[49m\u001b[43m(\u001b[49m\u001b[43mkwargs\u001b[49m\u001b[43m)\u001b[49m\n\u001b[1;32m   8792\u001b[0m \u001b[38;5;28;01mif\u001b[39;00m \u001b[38;5;28misinstance\u001b[39m(columns, \u001b[38;5;28mlist\u001b[39m):\n",
      "File \u001b[0;32m~/.local/lib/python3.11/site-packages/ee/data.py:1030\u001b[0m, in \u001b[0;36mcomputeFeatures\u001b[0;34m(params)\u001b[0m\n\u001b[1;32m   1029\u001b[0m \u001b[38;5;28;01mif\u001b[39;00m converter:\n\u001b[0;32m-> 1030\u001b[0m   \u001b[38;5;28;01mreturn\u001b[39;00m \u001b[43mconverter\u001b[49m\u001b[38;5;241;43m.\u001b[39;49m\u001b[43mdo_conversion\u001b[49m\u001b[43m(\u001b[49m\u001b[43m_generate\u001b[49m\u001b[43m(\u001b[49m\u001b[43mcall\u001b[49m\u001b[43m,\u001b[49m\u001b[43m \u001b[49m\u001b[38;5;124;43m'\u001b[39;49m\u001b[38;5;124;43mfeatures\u001b[39;49m\u001b[38;5;124;43m'\u001b[39;49m\u001b[43m,\u001b[49m\u001b[43m \u001b[49m\u001b[43mparams\u001b[49m\u001b[38;5;241;43m=\u001b[39;49m\u001b[43mparams\u001b[49m\u001b[43m)\u001b[49m\u001b[43m)\u001b[49m\n\u001b[1;32m   1031\u001b[0m \u001b[38;5;28;01mreturn\u001b[39;00m call(params)\n",
      "File \u001b[0;32m~/.local/lib/python3.11/site-packages/ee/table_converter.py:23\u001b[0m, in \u001b[0;36mPandasConverter.do_conversion\u001b[0;34m(self, features)\u001b[0m\n\u001b[1;32m     20\u001b[0m   \u001b[38;5;28;01mraise\u001b[39;00m \u001b[38;5;167;01mImportError\u001b[39;00m(\n\u001b[1;32m     21\u001b[0m       \u001b[38;5;124m'\u001b[39m\u001b[38;5;124mUsing format PANDAS_DATAFRAME requires pandas.\u001b[39m\u001b[38;5;124m'\u001b[39m\n\u001b[1;32m     22\u001b[0m   ) \u001b[38;5;28;01mfrom\u001b[39;00m \u001b[38;5;21;01mexc\u001b[39;00m\n\u001b[0;32m---> 23\u001b[0m \u001b[38;5;28;01mreturn\u001b[39;00m \u001b[43mpandas\u001b[49m\u001b[38;5;241;43m.\u001b[39;49m\u001b[43mDataFrame\u001b[49m\u001b[38;5;241;43m.\u001b[39;49m\u001b[43mfrom_records\u001b[49m\u001b[43m(\u001b[49m\u001b[38;5;28;43mself\u001b[39;49m\u001b[38;5;241;43m.\u001b[39;49m\u001b[43m_convert_to_records\u001b[49m\u001b[43m(\u001b[49m\u001b[43mfeatures\u001b[49m\u001b[43m)\u001b[49m\u001b[43m)\u001b[49m\n",
      "File \u001b[0;32m/opt/jaspy/lib/python3.11/site-packages/pandas/core/frame.py:2450\u001b[0m, in \u001b[0;36mDataFrame.from_records\u001b[0;34m(cls, data, index, exclude, columns, coerce_float, nrows)\u001b[0m\n\u001b[1;32m   2449\u001b[0m \u001b[38;5;28;01mtry\u001b[39;00m:\n\u001b[0;32m-> 2450\u001b[0m     first_row \u001b[38;5;241m=\u001b[39m \u001b[38;5;28;43mnext\u001b[39;49m\u001b[43m(\u001b[49m\u001b[43mdata\u001b[49m\u001b[43m)\u001b[49m\n\u001b[1;32m   2451\u001b[0m \u001b[38;5;28;01mexcept\u001b[39;00m \u001b[38;5;167;01mStopIteration\u001b[39;00m:\n",
      "File \u001b[0;32m~/.local/lib/python3.11/site-packages/ee/table_converter.py:28\u001b[0m, in \u001b[0;36mPandasConverter._convert_to_records\u001b[0;34m(self, features)\u001b[0m\n\u001b[1;32m     25\u001b[0m \u001b[38;5;28;01mdef\u001b[39;00m \u001b[38;5;21m_convert_to_records\u001b[39m(\n\u001b[1;32m     26\u001b[0m     \u001b[38;5;28mself\u001b[39m, features: Iterator[Any]\n\u001b[1;32m     27\u001b[0m ) \u001b[38;5;241m-\u001b[39m\u001b[38;5;241m>\u001b[39m Iterator[Dict[\u001b[38;5;28mstr\u001b[39m, Any]]:\n\u001b[0;32m---> 28\u001b[0m \u001b[43m  \u001b[49m\u001b[38;5;28;43;01mfor\u001b[39;49;00m\u001b[43m \u001b[49m\u001b[43mfeature\u001b[49m\u001b[43m \u001b[49m\u001b[38;5;129;43;01min\u001b[39;49;00m\u001b[43m \u001b[49m\u001b[43mfeatures\u001b[49m\u001b[43m:\u001b[49m\n\u001b[1;32m     29\u001b[0m \u001b[43m    \u001b[49m\u001b[38;5;28;43;01myield\u001b[39;49;00m\u001b[43m \u001b[49m\u001b[43m{\u001b[49m\n\u001b[1;32m     30\u001b[0m \u001b[43m        \u001b[49m\u001b[38;5;124;43m'\u001b[39;49m\u001b[38;5;124;43mgeo\u001b[39;49m\u001b[38;5;124;43m'\u001b[39;49m\u001b[43m:\u001b[49m\u001b[43m \u001b[49m\u001b[43mfeature\u001b[49m\u001b[38;5;241;43m.\u001b[39;49m\u001b[43mget\u001b[49m\u001b[43m(\u001b[49m\u001b[38;5;124;43m'\u001b[39;49m\u001b[38;5;124;43mgeometry\u001b[39;49m\u001b[38;5;124;43m'\u001b[39;49m\u001b[43m)\u001b[49m\u001b[43m,\u001b[49m\n\u001b[1;32m     31\u001b[0m \u001b[43m        \u001b[49m\u001b[38;5;241;43m*\u001b[39;49m\u001b[38;5;241;43m*\u001b[39;49m\u001b[43m(\u001b[49m\u001b[43mfeature\u001b[49m\u001b[38;5;241;43m.\u001b[39;49m\u001b[43mget\u001b[49m\u001b[43m(\u001b[49m\u001b[38;5;124;43m'\u001b[39;49m\u001b[38;5;124;43mproperties\u001b[39;49m\u001b[38;5;124;43m'\u001b[39;49m\u001b[43m,\u001b[49m\u001b[43m \u001b[49m\u001b[43m{\u001b[49m\u001b[43m}\u001b[49m\u001b[43m)\u001b[49m\u001b[43m \u001b[49m\u001b[38;5;129;43;01mor\u001b[39;49;00m\u001b[43m \u001b[49m\u001b[43m{\u001b[49m\u001b[43m}\u001b[49m\u001b[43m)\u001b[49m\u001b[43m,\u001b[49m\n\u001b[1;32m     32\u001b[0m \u001b[43m    \u001b[49m\u001b[43m}\u001b[49m\n",
      "File \u001b[0;32m~/.local/lib/python3.11/site-packages/ee/data.py:826\u001b[0m, in \u001b[0;36m_generate\u001b[0;34m(func, list_key, **kwargs)\u001b[0m\n\u001b[1;32m    825\u001b[0m \u001b[38;5;28;01mwhile\u001b[39;00m \u001b[38;5;28;01mTrue\u001b[39;00m:\n\u001b[0;32m--> 826\u001b[0m   response \u001b[38;5;241m=\u001b[39m \u001b[43mfunc\u001b[49m\u001b[43m(\u001b[49m\u001b[38;5;241;43m*\u001b[39;49m\u001b[38;5;241;43m*\u001b[39;49m\u001b[43margs\u001b[49m\u001b[43m)\u001b[49m\n\u001b[1;32m    827\u001b[0m   \u001b[38;5;28;01mfor\u001b[39;00m obj \u001b[38;5;129;01min\u001b[39;00m response\u001b[38;5;241m.\u001b[39mget(list_key, []):\n",
      "File \u001b[0;32m~/.local/lib/python3.11/site-packages/ee/data.py:1021\u001b[0m, in \u001b[0;36mcomputeFeatures.<locals>.call\u001b[0;34m(params)\u001b[0m\n\u001b[1;32m   1020\u001b[0m \u001b[38;5;28;01mdef\u001b[39;00m \u001b[38;5;21mcall\u001b[39m(params):\n\u001b[0;32m-> 1021\u001b[0m   \u001b[38;5;28;01mreturn\u001b[39;00m \u001b[43m_execute_cloud_call\u001b[49m\u001b[43m(\u001b[49m\n\u001b[1;32m   1022\u001b[0m \u001b[43m      \u001b[49m\u001b[43m_get_cloud_projects\u001b[49m\u001b[43m(\u001b[49m\u001b[43m)\u001b[49m\n\u001b[1;32m   1023\u001b[0m \u001b[43m      \u001b[49m\u001b[38;5;241;43m.\u001b[39;49m\u001b[43mtable\u001b[49m\u001b[43m(\u001b[49m\u001b[43m)\u001b[49m\n\u001b[1;32m   1024\u001b[0m \u001b[43m      \u001b[49m\u001b[38;5;241;43m.\u001b[39;49m\u001b[43mcomputeFeatures\u001b[49m\u001b[43m(\u001b[49m\u001b[43mproject\u001b[49m\u001b[38;5;241;43m=\u001b[39;49m\u001b[43m_get_projects_path\u001b[49m\u001b[43m(\u001b[49m\u001b[43m)\u001b[49m\u001b[43m,\u001b[49m\u001b[43m \u001b[49m\u001b[43mbody\u001b[49m\u001b[38;5;241;43m=\u001b[39;49m\u001b[43mparams\u001b[49m\u001b[43m)\u001b[49m\n\u001b[1;32m   1025\u001b[0m \u001b[43m  \u001b[49m\u001b[43m)\u001b[49m\n",
      "File \u001b[0;32m~/.local/lib/python3.11/site-packages/ee/data.py:408\u001b[0m, in \u001b[0;36m_execute_cloud_call\u001b[0;34m(call, num_retries)\u001b[0m\n\u001b[1;32m    407\u001b[0m \u001b[38;5;28;01mexcept\u001b[39;00m googleapiclient\u001b[38;5;241m.\u001b[39merrors\u001b[38;5;241m.\u001b[39mHttpError \u001b[38;5;28;01mas\u001b[39;00m e:\n\u001b[0;32m--> 408\u001b[0m   \u001b[38;5;28;01mraise\u001b[39;00m _translate_cloud_exception(e)\n",
      "\u001b[0;31mEEException\u001b[0m: FeatureCollection.randomPoints: RandomPoints: Region must not be empty.",
      "\nDuring handling of the above exception, another exception occurred:\n",
      "\u001b[0;31mException\u001b[0m                                 Traceback (most recent call last)",
      "\u001b[0;32m/tmp/ipykernel_555/344503788.py\u001b[0m in \u001b[0;36m?\u001b[0;34m()\u001b[0m\n\u001b[1;32m      1\u001b[0m \u001b[0;31m#download the data\u001b[0m\u001b[0;34m\u001b[0m\u001b[0;34m\u001b[0m\u001b[0m\n\u001b[1;32m      2\u001b[0m \u001b[0;31m#try:\u001b[0m\u001b[0;34m\u001b[0m\u001b[0;34m\u001b[0m\u001b[0m\n\u001b[0;32m----> 3\u001b[0;31m \u001b[0mdata_s2\u001b[0m \u001b[0;34m=\u001b[0m \u001b[0mgeemap\u001b[0m\u001b[0;34m.\u001b[0m\u001b[0mee_to_df\u001b[0m\u001b[0;34m(\u001b[0m\u001b[0mts_s2\u001b[0m\u001b[0;34m)\u001b[0m\u001b[0;34m\u001b[0m\u001b[0;34m\u001b[0m\u001b[0m\n\u001b[0m\u001b[1;32m      4\u001b[0m \u001b[0;31m#except Exception as e:\u001b[0m\u001b[0;34m\u001b[0m\u001b[0;34m\u001b[0m\u001b[0m\n\u001b[1;32m      5\u001b[0m \u001b[0;31m#    print(e)\u001b[0m\u001b[0;34m\u001b[0m\u001b[0;34m\u001b[0m\u001b[0m\n\u001b[1;32m      6\u001b[0m \u001b[0;31m#    print(f'failed to download Maize_{year}_{coord[1]:.2f}_{coord[1]:.2f}')\u001b[0m\u001b[0;34m\u001b[0m\u001b[0;34m\u001b[0m\u001b[0m\n",
      "\u001b[0;32m~/.local/lib/python3.11/site-packages/geemap/common.py\u001b[0m in \u001b[0;36m?\u001b[0;34m(ee_object, columns, remove_geom, sort_columns, **kwargs)\u001b[0m\n\u001b[1;32m   8799\u001b[0m             \u001b[0mdf\u001b[0m \u001b[0;34m=\u001b[0m \u001b[0mdf\u001b[0m\u001b[0;34m.\u001b[0m\u001b[0mreindex\u001b[0m\u001b[0;34m(\u001b[0m\u001b[0msorted\u001b[0m\u001b[0;34m(\u001b[0m\u001b[0mdf\u001b[0m\u001b[0;34m.\u001b[0m\u001b[0mcolumns\u001b[0m\u001b[0;34m)\u001b[0m\u001b[0;34m,\u001b[0m \u001b[0maxis\u001b[0m\u001b[0;34m=\u001b[0m\u001b[0;36m1\u001b[0m\u001b[0;34m)\u001b[0m\u001b[0;34m\u001b[0m\u001b[0;34m\u001b[0m\u001b[0m\n\u001b[1;32m   8800\u001b[0m \u001b[0;34m\u001b[0m\u001b[0m\n\u001b[1;32m   8801\u001b[0m         \u001b[0;32mreturn\u001b[0m \u001b[0mdf\u001b[0m\u001b[0;34m\u001b[0m\u001b[0;34m\u001b[0m\u001b[0m\n\u001b[1;32m   8802\u001b[0m     \u001b[0;32mexcept\u001b[0m \u001b[0mException\u001b[0m \u001b[0;32mas\u001b[0m \u001b[0me\u001b[0m\u001b[0;34m:\u001b[0m\u001b[0;34m\u001b[0m\u001b[0;34m\u001b[0m\u001b[0m\n\u001b[0;32m-> 8803\u001b[0;31m         \u001b[0;32mraise\u001b[0m \u001b[0mException\u001b[0m\u001b[0;34m(\u001b[0m\u001b[0me\u001b[0m\u001b[0;34m)\u001b[0m\u001b[0;34m\u001b[0m\u001b[0;34m\u001b[0m\u001b[0m\n\u001b[0m",
      "\u001b[0;31mException\u001b[0m: FeatureCollection.randomPoints: RandomPoints: Region must not be empty."
     ]
    }
   ],
   "source": [
    "#download the data\n",
    "#try:\n",
    "data_s2 = geemap.ee_to_df(ts_s2)\n",
    "#except Exception as e:\n",
    "#    print(e)\n",
    "#    print(f'failed to download Maize_{year}_{coord[1]:.2f}_{coord[1]:.2f}')\n",
    "data_s2 = data_s2[data_s2['NDVI']!=-9999]\n",
    "#save the data\n",
    "data_s2.to_csv(save_path, index=False)\n",
    "print(f'saved {save_path}')"
   ]
  },
  {
   "cell_type": "code",
   "execution_count": 2,
   "metadata": {},
   "outputs": [],
   "source": [
    "import geemap\n",
    "geemap.ee_initialize(credentials)"
   ]
  },
  {
   "cell_type": "code",
   "execution_count": 19,
   "metadata": {},
   "outputs": [
    {
     "data": {
      "text/html": [
       "\n",
       "            <style>\n",
       "                .geemap-dark {\n",
       "                    --jp-widgets-color: white;\n",
       "                    --jp-widgets-label-color: white;\n",
       "                    --jp-ui-font-color1: white;\n",
       "                    --jp-layout-color2: #454545;\n",
       "                    background-color: #383838;\n",
       "                }\n",
       "\n",
       "                .geemap-dark .jupyter-button {\n",
       "                    --jp-layout-color3: #383838;\n",
       "                }\n",
       "\n",
       "                .geemap-colab {\n",
       "                    background-color: var(--colab-primary-surface-color, white);\n",
       "                }\n",
       "\n",
       "                .geemap-colab .jupyter-button {\n",
       "                    --jp-layout-color3: var(--colab-primary-surface-color, white);\n",
       "                }\n",
       "            </style>\n",
       "            "
      ],
      "text/plain": [
       "<IPython.core.display.HTML object>"
      ]
     },
     "metadata": {},
     "output_type": "display_data"
    },
    {
     "ename": "SyntaxError",
     "evalue": "invalid syntax (2999962041.py, line 18)",
     "output_type": "error",
     "traceback": [
      "\u001b[0;36m  Cell \u001b[0;32mIn[19], line 18\u001b[0;36m\u001b[0m\n\u001b[0;31m    filtered_dataset = self.dataset..filterBounds(location)\u001b[0m\n\u001b[0m                                    ^\u001b[0m\n\u001b[0;31mSyntaxError\u001b[0m\u001b[0;31m:\u001b[0m invalid syntax\n"
     ]
    }
   ],
   "source": [
    "class timeseries_downloader:\n",
    "    def __init__(self, coords):\n",
    "        self.coords = coords\n",
    "        \n",
    "    def initiate_image_collection(self, instrument = \"COPERNICUS/S2_SR_HARMONIZED\", bands = ['B4', 'B8'], \n",
    "                                  start_date = '2000-01-01', end_date = '2022-12-31', \n",
    "                                  QC_function = mask_s2_clouds_collection, pixel_scale = 500):\n",
    "        self.bands = bands\n",
    "        self.dataset = ee.ImageCollection(instrument).filterDate(start_date, end_date)\n",
    "        self.dataset = QC_function(self.dataset)\n",
    "        self.dataset = self.dataset.select(*bands)\n",
    "        self.pixel_scale = pixel_scale\n",
    "        \n",
    "    def read_at_coords(self, box_width = 0.002):\n",
    "        for coord_index, coord in enumerate(self.coords):\n",
    "            print(coord_index)\n",
    "            location = box_around_point(coord, box_width)\n",
    "            filtered_dataset = self.dataset.filterBounds(location)\n",
    "            filtered_dataset = reduce_region_collection(filtered_dataset, location, reducer_code = 'median', pixel_scale = self.pixel_scale)\n",
    "            print('filtered!')\n",
    "            df = collection_properties_to_frame(filtered_dataset, coord, self.bands, reducer_code = 'median')\n",
    "            if coord_index == 0:\n",
    "                self.df_full = df\n",
    "            else:\n",
    "                self.df_full = pd.concat([self.df_full, df])\n",
    "\n",
    "def box_around_point(coord, box_width):\n",
    "    '''\n",
    "    coord: coordinate in (lat, lon) (?)\n",
    "    '''\n",
    "    return ee.Geometry.BBox(coord[1] - box_width, coord[0] - box_width, coord[1] + box_width, coord[0] + box_width)\n",
    "\n",
    "def get_mean(image, location, pixel_scale= 500):\n",
    "    return image.set('mean', image.reduceRegion(ee.Reducer.mean(), location , pixel_scale))\n",
    "\n",
    "def get_median(image, location, pixel_scale= 500):\n",
    "    return image.set('median', image.reduceRegion(ee.Reducer.median(), location , pixel_scale))\n",
    "\n",
    "def reduce_region_collection(image_collection, location, reducer_code = 'median', pixel_scale = 500):\n",
    "    if reducer_code == 'mean':\n",
    "        return image_collection.map(lambda img: get_mean(img, location, pixel_scale = pixel_scale))\n",
    "    elif reducer_code == 'median':\n",
    "        return image_collection.map(lambda img: get_median(img, location, pixel_scale = pixel_scale))\n",
    "    else:\n",
    "        print('invalid reducer code')\n",
    "\n",
    "def collection_properties_to_frame(image_collection, coord, bands):\n",
    "    print('collecting...')\n",
    "    timelist = image_collection.aggregate_array('system:time_start').getInfo()\n",
    "    print('Times retrieved!')\n",
    "    bandlist = image_collection.aggregate_array('median').getInfo()\n",
    "    print('Data retrieved!')\n",
    "    data = {'Time': timelist,\n",
    "            'lat': [coord[0] for count in range(len(timelist))],\n",
    "            'lon': [coord[1] for count in range(len(timelist))],\n",
    "            'Stations_Id': [np.int64(coord[2]) for count in range(len(timelist))]\n",
    "           }\n",
    "    for band in bands:\n",
    "        data[f'{reducer_code} {band}'] = [band_data[band] for band_data in bandlist]\n",
    "    df = pd.DataFrame(data)\n",
    "    df['formatted_time'] = pd.to_datetime(df['Time'], unit='ms').dt.strftime('%Y-%m-%d-%H-%M-%S')\n",
    "    return df"
   ]
  },
  {
   "cell_type": "code",
   "execution_count": 3,
   "metadata": {},
   "outputs": [
    {
     "data": {
      "text/html": [
       "\n",
       "            <style>\n",
       "                .geemap-dark {\n",
       "                    --jp-widgets-color: white;\n",
       "                    --jp-widgets-label-color: white;\n",
       "                    --jp-ui-font-color1: white;\n",
       "                    --jp-layout-color2: #454545;\n",
       "                    background-color: #383838;\n",
       "                }\n",
       "\n",
       "                .geemap-dark .jupyter-button {\n",
       "                    --jp-layout-color3: #383838;\n",
       "                }\n",
       "\n",
       "                .geemap-colab {\n",
       "                    background-color: var(--colab-primary-surface-color, white);\n",
       "                }\n",
       "\n",
       "                .geemap-colab .jupyter-button {\n",
       "                    --jp-layout-color3: var(--colab-primary-surface-color, white);\n",
       "                }\n",
       "            </style>\n",
       "            "
      ],
      "text/plain": [
       "<IPython.core.display.HTML object>"
      ]
     },
     "metadata": {},
     "output_type": "display_data"
    },
    {
     "name": "stdout",
     "output_type": "stream",
     "text": [
      "0 2 Sentinel/Kenya/SatData0\n",
      "0\n",
      "1\n"
     ]
    }
   ],
   "source": [
    "startpoint = 0\n",
    "endpoint = 2\n",
    "savename = 'Sentinel/Kenya/SatData0'\n",
    "print(startpoint, endpoint, savename)\n",
    "\n",
    "root_directory = ''#'home/users/wlwc1989/phenology_dwd/'\n",
    "\n",
    "#coords = np.loadtxt(root_directory + \"Saved_files/station_coords.csv\", delimiter=',')\n",
    "coords = []\n",
    "for lat in np.arange(-1, 1, 0.05):\n",
    "    for lon in np.arange(35.05, 37.05, 0.05):\n",
    "        coords.append([lat , lon, 0])\n",
    "\n",
    "Sentinel_downloader = download_fctns.timeseries_downloader(coords[startpoint:endpoint])\n",
    "Sentinel_downloader.initiate_image_collection(\n",
    "    instrument = \"COPERNICUS/S2_SR_HARMONIZED\", bands = ['B4', 'B8'],\n",
    "    start_date = '2020-01-01', \n",
    "    QC_function = mask_s2_clouds_collection, pixel_scale = 250)\n",
    "#    QC_function = lambda IC: IC.map(MODIS_Mask_QC).map(mask_MODIS_clouds))\n",
    "Sentinel_downloader.read_at_coords(box_width = 0.01)\n",
    "Sentinel_downloader.df_full.dropna().to_csv(root_directory + f\"Saved_files/{savename}.csv\")\n",
    "\n",
    "#df.dropna().to_csv(root_directory + f\"Saved_files/{savename}.csv\")\n"
   ]
  },
  {
   "cell_type": "code",
   "execution_count": null,
   "metadata": {},
   "outputs": [],
   "source": [
    "MODIS_downloader = download_fctns.timeseries_downloader(coords[startpoint:endpoint])\n",
    "MODIS_downloader.initiate_image_collection(\n",
    "    instrument = \"MODIS/061/MOD09GA\", bands = [f'sur_refl_b0{n}' for n in range(1, 5)],\n",
    "    start_date = '2020-01-01', \n",
    "    QC_function = lambda IC: IC.map(MODIS_Mask_QC).map(mask_MODIS_clouds).map(worldcereal_mask))\n",
    "#    QC_function = lambda IC: IC.map(MODIS_Mask_QC).map(mask_MODIS_clouds))\n",
    "MODIS_downloader.read_at_coords(box_width = 0.002)"
   ]
  },
  {
   "cell_type": "code",
   "execution_count": 9,
   "metadata": {},
   "outputs": [
    {
     "data": {
      "text/html": [
       "\n",
       "            <style>\n",
       "                .geemap-dark {\n",
       "                    --jp-widgets-color: white;\n",
       "                    --jp-widgets-label-color: white;\n",
       "                    --jp-ui-font-color1: white;\n",
       "                    --jp-layout-color2: #454545;\n",
       "                    background-color: #383838;\n",
       "                }\n",
       "\n",
       "                .geemap-dark .jupyter-button {\n",
       "                    --jp-layout-color3: #383838;\n",
       "                }\n",
       "\n",
       "                .geemap-colab {\n",
       "                    background-color: var(--colab-primary-surface-color, white);\n",
       "                }\n",
       "\n",
       "                .geemap-colab .jupyter-button {\n",
       "                    --jp-layout-color3: var(--colab-primary-surface-color, white);\n",
       "                }\n",
       "            </style>\n",
       "            "
      ],
      "text/plain": [
       "<IPython.core.display.HTML object>"
      ]
     },
     "metadata": {},
     "output_type": "display_data"
    }
   ],
   "source": [
    "import os"
   ]
  },
  {
   "cell_type": "code",
   "execution_count": 11,
   "metadata": {},
   "outputs": [
    {
     "data": {
      "text/html": [
       "\n",
       "            <style>\n",
       "                .geemap-dark {\n",
       "                    --jp-widgets-color: white;\n",
       "                    --jp-widgets-label-color: white;\n",
       "                    --jp-ui-font-color1: white;\n",
       "                    --jp-layout-color2: #454545;\n",
       "                    background-color: #383838;\n",
       "                }\n",
       "\n",
       "                .geemap-dark .jupyter-button {\n",
       "                    --jp-layout-color3: #383838;\n",
       "                }\n",
       "\n",
       "                .geemap-colab {\n",
       "                    background-color: var(--colab-primary-surface-color, white);\n",
       "                }\n",
       "\n",
       "                .geemap-colab .jupyter-button {\n",
       "                    --jp-layout-color3: var(--colab-primary-surface-color, white);\n",
       "                }\n",
       "            </style>\n",
       "            "
      ],
      "text/plain": [
       "<IPython.core.display.HTML object>"
      ]
     },
     "metadata": {},
     "output_type": "display_data"
    },
    {
     "data": {
      "text/plain": [
       "'/home/users/wlwc1989/earth_engine_MP'"
      ]
     },
     "execution_count": 11,
     "metadata": {},
     "output_type": "execute_result"
    }
   ],
   "source": [
    "os.getcwd()"
   ]
  },
  {
   "cell_type": "code",
   "execution_count": 15,
   "metadata": {},
   "outputs": [
    {
     "data": {
      "text/html": [
       "\n",
       "            <style>\n",
       "                .geemap-dark {\n",
       "                    --jp-widgets-color: white;\n",
       "                    --jp-widgets-label-color: white;\n",
       "                    --jp-ui-font-color1: white;\n",
       "                    --jp-layout-color2: #454545;\n",
       "                    background-color: #383838;\n",
       "                }\n",
       "\n",
       "                .geemap-dark .jupyter-button {\n",
       "                    --jp-layout-color3: #383838;\n",
       "                }\n",
       "\n",
       "                .geemap-colab {\n",
       "                    background-color: var(--colab-primary-surface-color, white);\n",
       "                }\n",
       "\n",
       "                .geemap-colab .jupyter-button {\n",
       "                    --jp-layout-color3: var(--colab-primary-surface-color, white);\n",
       "                }\n",
       "            </style>\n",
       "            "
      ],
      "text/plain": [
       "<IPython.core.display.HTML object>"
      ]
     },
     "metadata": {},
     "output_type": "display_data"
    }
   ],
   "source": [
    "savename = 'Sentinel/Kenya/SatData0'\n",
    "MODIS_downloader.df_full.dropna().to_csv(root_directory + f\"Saved_files/{savename}.csv\")"
   ]
  },
  {
   "cell_type": "code",
   "execution_count": 6,
   "metadata": {},
   "outputs": [
    {
     "data": {
      "text/html": [
       "\n",
       "            <style>\n",
       "                .geemap-dark {\n",
       "                    --jp-widgets-color: white;\n",
       "                    --jp-widgets-label-color: white;\n",
       "                    --jp-ui-font-color1: white;\n",
       "                    --jp-layout-color2: #454545;\n",
       "                    background-color: #383838;\n",
       "                }\n",
       "\n",
       "                .geemap-dark .jupyter-button {\n",
       "                    --jp-layout-color3: #383838;\n",
       "                }\n",
       "\n",
       "                .geemap-colab {\n",
       "                    background-color: var(--colab-primary-surface-color, white);\n",
       "                }\n",
       "\n",
       "                .geemap-colab .jupyter-button {\n",
       "                    --jp-layout-color3: var(--colab-primary-surface-color, white);\n",
       "                }\n",
       "            </style>\n",
       "            "
      ],
      "text/plain": [
       "<IPython.core.display.HTML object>"
      ]
     },
     "metadata": {},
     "output_type": "display_data"
    },
    {
     "name": "stdout",
     "output_type": "stream",
     "text": [
      "Useful Files/calendar.tif already exists. Skip downloading. Set overwrite=True to overwrite.\n"
     ]
    },
    {
     "data": {
      "text/plain": [
       "'/home/users/wlwc1989/earth_engine_MP/Useful Files/calendar.tif'"
      ]
     },
     "execution_count": 6,
     "metadata": {},
     "output_type": "execute_result"
    }
   ],
   "source": [
    "url = 'https://github.com/ucg-uv/research_products/blob/main/cropcalendars/M1_EOS_WGS84.tif'\n",
    "filename = 'Useful Files/calendar.tif'\n",
    "geemap.download_file(url, filename)"
   ]
  },
  {
   "cell_type": "code",
   "execution_count": 8,
   "metadata": {},
   "outputs": [
    {
     "data": {
      "text/html": [
       "\n",
       "            <style>\n",
       "                .geemap-dark {\n",
       "                    --jp-widgets-color: white;\n",
       "                    --jp-widgets-label-color: white;\n",
       "                    --jp-ui-font-color1: white;\n",
       "                    --jp-layout-color2: #454545;\n",
       "                    background-color: #383838;\n",
       "                }\n",
       "\n",
       "                .geemap-dark .jupyter-button {\n",
       "                    --jp-layout-color3: #383838;\n",
       "                }\n",
       "\n",
       "                .geemap-colab {\n",
       "                    background-color: var(--colab-primary-surface-color, white);\n",
       "                }\n",
       "\n",
       "                .geemap-colab .jupyter-button {\n",
       "                    --jp-layout-color3: var(--colab-primary-surface-color, white);\n",
       "                }\n",
       "            </style>\n",
       "            "
      ],
      "text/plain": [
       "<IPython.core.display.HTML object>"
      ]
     },
     "metadata": {},
     "output_type": "display_data"
    }
   ],
   "source": [
    "arr = geemap.image_to_numpy(filename)"
   ]
  },
  {
   "cell_type": "code",
   "execution_count": 21,
   "metadata": {},
   "outputs": [
    {
     "data": {
      "text/html": [
       "\n",
       "            <style>\n",
       "                .geemap-dark {\n",
       "                    --jp-widgets-color: white;\n",
       "                    --jp-widgets-label-color: white;\n",
       "                    --jp-ui-font-color1: white;\n",
       "                    --jp-layout-color2: #454545;\n",
       "                    background-color: #383838;\n",
       "                }\n",
       "\n",
       "                .geemap-dark .jupyter-button {\n",
       "                    --jp-layout-color3: #383838;\n",
       "                }\n",
       "\n",
       "                .geemap-colab {\n",
       "                    background-color: var(--colab-primary-surface-color, white);\n",
       "                }\n",
       "\n",
       "                .geemap-colab .jupyter-button {\n",
       "                    --jp-layout-color3: var(--colab-primary-surface-color, white);\n",
       "                }\n",
       "            </style>\n",
       "            "
      ],
      "text/plain": [
       "<IPython.core.display.HTML object>"
      ]
     },
     "metadata": {},
     "output_type": "display_data"
    },
    {
     "data": {
      "text/plain": [
       "335.0"
      ]
     },
     "execution_count": 21,
     "metadata": {},
     "output_type": "execute_result"
    }
   ],
   "source": [
    "arr[0, np.int32(286/2), np.int32(720/2 + 70)]"
   ]
  },
  {
   "cell_type": "code",
   "execution_count": 16,
   "metadata": {},
   "outputs": [
    {
     "data": {
      "text/html": [
       "\n",
       "            <style>\n",
       "                .geemap-dark {\n",
       "                    --jp-widgets-color: white;\n",
       "                    --jp-widgets-label-color: white;\n",
       "                    --jp-ui-font-color1: white;\n",
       "                    --jp-layout-color2: #454545;\n",
       "                    background-color: #383838;\n",
       "                }\n",
       "\n",
       "                .geemap-dark .jupyter-button {\n",
       "                    --jp-layout-color3: #383838;\n",
       "                }\n",
       "\n",
       "                .geemap-colab {\n",
       "                    background-color: var(--colab-primary-surface-color, white);\n",
       "                }\n",
       "\n",
       "                .geemap-colab .jupyter-button {\n",
       "                    --jp-layout-color3: var(--colab-primary-surface-color, white);\n",
       "                }\n",
       "            </style>\n",
       "            "
      ],
      "text/plain": [
       "<IPython.core.display.HTML object>"
      ]
     },
     "metadata": {},
     "output_type": "display_data"
    }
   ],
   "source": [
    "img = ee.Image.loadGeoTIFF(url)"
   ]
  },
  {
   "cell_type": "code",
   "execution_count": null,
   "metadata": {},
   "outputs": [],
   "source": [
    "Map = geemap.Map()\n",
    "Map.add_raster(filename, band=[4, 1, 2], layer_name=\"Color infrared\")\n",
    "Map"
   ]
  },
  {
   "cell_type": "code",
   "execution_count": 2,
   "metadata": {},
   "outputs": [],
   "source": [
    "root_directory = ''#'home/users/wlwc1989/phenology_dwd/'\n",
    "#root_directory = 'C:\\\\Users\\\\wlwc1989\\\\Documents\\\\Phenology_Test_Notebooks\\\\phenology_dwd\\\\'"
   ]
  },
  {
   "cell_type": "code",
   "execution_count": 3,
   "metadata": {},
   "outputs": [],
   "source": [
    "coords = np.loadtxt(root_directory + \"Saved_files/station_coords.csv\", delimiter=',')"
   ]
  },
  {
   "cell_type": "code",
   "execution_count": 4,
   "metadata": {},
   "outputs": [],
   "source": [
    "#coords = np.loadtxt(\"C:\\\\Users\\\\wlwc1989\\\\Documents\\\\Phenology_Test_Notebooks\\\\phenology_dwd\\\\Saved_files\\\\station_coords.csv\", delimiter=',')"
   ]
  },
  {
   "cell_type": "code",
   "execution_count": 6,
   "metadata": {},
   "outputs": [],
   "source": [
    "def satellite_data_at_coords(coords, start_date = '2000-01-01', end_date = '2022-12-31', instrument = \"COPERNICUS/S2_SR_HARMONIZED\", bands = ['B4', 'B8'], box_width = 0.002, pixel_scale = 500, QC_function = mask_s2_clouds):\n",
    "    for coord_index, coord in enumerate(coords):\n",
    "        print(coord_index)\n",
    "        location = ee.Geometry.BBox(coord[1] - box_width, coord[0] - box_width, coord[1] + box_width, coord[0] + box_width) #ee.Geometry.Point(coord[:2])#\n",
    "        dataset = ee.ImageCollection(instrument)\n",
    "        dataset = QC_function(dataset)\n",
    "        filtered_dataset = dataset.filterDate(start_date, end_date).filterBounds(location)\n",
    "        time_series_data = filtered_dataset.select(*bands).map(lambda img: img.set('median', img.reduceRegion(ee.Reducer.median(), location , pixel_scale)))#.getInfo()#.getRegion(location, pixel_scale).getInfo()#.getRegion(location, 30).getInfo()#('B4')#.median()#.get('B4')#reduceColumns(ee.Reducer.median().setOutputs(['median']), [''])#.get('B4')\n",
    "        timelist = time_series_data.aggregate_array('system:time_start').getInfo()\n",
    "        print('times retrieved')\n",
    "        bandlist = time_series_data.aggregate_array('median').getInfo()\n",
    "        print('bands retrieved')\n",
    "        dataset = {'Time': timelist,\n",
    "                   'lat': [coord[0] for count in range(len(timelist))],\n",
    "                   'lon': [coord[1] for count in range(len(timelist))],\n",
    "                   'Stations_Id': [np.int64(coord[2]) for count in range(len(timelist))]\n",
    "                   }\n",
    "        for band in bands:\n",
    "            dataset[f'Median {band}'] = [band_data[band] for band_data in bandlist]\n",
    "        df = pd.DataFrame(dataset)\n",
    "        df['formatted_time'] = pd.to_datetime(df['Time'], unit='ms').dt.strftime('%Y-%m-%d-%H-%M-%S')\n",
    "        if coord_index == 0:\n",
    "            df_full = df\n",
    "        else:\n",
    "            df_full = pd.concat([df_full, df])\n",
    "    return df_full"
   ]
  },
  {
   "cell_type": "code",
   "execution_count": 8,
   "metadata": {},
   "outputs": [
    {
     "name": "stdout",
     "output_type": "stream",
     "text": [
      "0\n",
      "times retrieved\n",
      "bands retrieved\n",
      "1\n",
      "times retrieved\n",
      "bands retrieved\n"
     ]
    }
   ],
   "source": [
    "df = satellite_data_at_coords(coords[:2], start_date='2020-10-01', instrument = \"MODIS/061/MOD09A1\", QC_function = lambda IC: IC, bands = [f'sur_refl_b0{n}' for n in range(1, 5)]) #\"MODIS/061/MOD09GA\""
   ]
  },
  {
   "cell_type": "code",
   "execution_count": null,
   "metadata": {},
   "outputs": [],
   "source": [
    "df = satellite_data_at_coords(coords[:2], start_date='2020-10-01', instrument = \"MODIS/061/MOD09A1\", QC_function = lambda IC: IC.map(MODIS_Mask_QC).map(mask_MODIS_clouds), bands = [f'sur_refl_b0{n}' for n in range(1, 5)]) #\"MODIS/061/MOD09GA\""
   ]
  },
  {
   "cell_type": "code",
   "execution_count": 22,
   "metadata": {},
   "outputs": [
    {
     "ename": "SyntaxError",
     "evalue": "expected ':' (1440415578.py, line 2)",
     "output_type": "error",
     "traceback": [
      "\u001b[1;36m  Cell \u001b[1;32mIn[22], line 2\u001b[1;36m\u001b[0m\n\u001b[1;33m    for station in df['Stations_Id'].unique()\u001b[0m\n\u001b[1;37m                                             ^\u001b[0m\n\u001b[1;31mSyntaxError\u001b[0m\u001b[1;31m:\u001b[0m expected ':'\n"
     ]
    }
   ],
   "source": [
    "fig, ax = plt.subplots()\n",
    "for station in df['Stations_Id'].unique():\n",
    "    df_reduced = df.where(df['Stations_Id'] == station).dropna()\n",
    "    plt.plot(df_reduced['formatted_time'], df_reduced['Median B4'])"
   ]
  },
  {
   "cell_type": "code",
   "execution_count": 47,
   "metadata": {},
   "outputs": [],
   "source": [
    "#location = ee.Geometry.Point([10.05, 54.3167]) #(lon, lat)\n",
    "Instrument = \"MODIS/061/MOD09GA\"\n",
    "#Instrument = \"MODIS/061/MOD09GQ\"\n",
    "#Instrument = \"COPERNICUS/S2_SR_HARMONIZED\"\n",
    "coord = [54.3167, 10.05, 7504.0]\n",
    "box_width = 0.002\n",
    "\n",
    "location = ee.Geometry.BBox(8, 48, 15, 58)#ee.Geometry.BBox(coord[1] - box_width, coord[0] - box_width, coord[1] + box_width, coord[0] + box_width)\n",
    "# Define the satellite imagery dataset (e.g., Landsat 8)\n",
    "dataset = ee.ImageCollection(Instrument)\n",
    "\n",
    "# Filter the dataset by location and date range\n",
    "filtered_dataset = dataset.filterBounds(location).filterDate('2000-01-01', '2022-12-31')"
   ]
  },
  {
   "cell_type": "code",
   "execution_count": 52,
   "metadata": {},
   "outputs": [],
   "source": [
    "filtered_dataset = filtered_dataset.map(MODIS_Mask_QC).map(mask_MODIS_clouds)"
   ]
  },
  {
   "cell_type": "code",
   "execution_count": 53,
   "metadata": {},
   "outputs": [],
   "source": [
    "# Define a function to calculate NDVI\n",
    "def calculate_ndvi(image, band1 = 'B4', band2 = 'B8'):\n",
    "    ndvi = image.normalizedDifference([band1, band2]).rename('NDVI')\n",
    "    return image.addBands(ndvi)\n",
    "\n",
    "def get_median(image):\n",
    "    return image.set('median', image.reduceRegion(ee.Reducer.median(), location , pixel_scale))\n",
    "\n",
    "# Map the NDVI calculation function over the filtered dataset\n",
    "ndvi_dataset = filtered_dataset.map(lambda image: calculate_ndvi(image, band1 = 'sur_refl_b01', band2 = 'sur_refl_b02'))"
   ]
  },
  {
   "cell_type": "code",
   "execution_count": 54,
   "metadata": {},
   "outputs": [],
   "source": [
    "location = ee.Geometry.BBox(coord[1] - box_width, coord[0] - box_width, coord[1] + box_width, coord[0] + box_width) #ee.Geometry.Point(coord[:2])#\n",
    "ndvi_dataset = ndvi_dataset.filterBounds(location)"
   ]
  },
  {
   "cell_type": "code",
   "execution_count": 27,
   "metadata": {},
   "outputs": [],
   "source": [
    "ndvi_dataset = ndvi_dataset.map(mask_MODIS_clouds)"
   ]
  },
  {
   "cell_type": "code",
   "execution_count": null,
   "metadata": {},
   "outputs": [
    {
     "name": "stdout",
     "output_type": "stream",
     "text": [
      "times sorted\n"
     ]
    }
   ],
   "source": [
    "pixel_scale = 500\n",
    "bands = [f'sur_refl_b0{n}' for n in range(1, 5)]\n",
    "bands.append('NDVI')\n",
    "time_series_data = ndvi_dataset.select(bands).map(get_median)#.getInfo()#.getRegion(location, pixel_scale).getInfo()#.getRegion(location, 30).getInfo()#('B4')#.median()#.get('B4')#reduceColumns(ee.Reducer.median().setOutputs(['median']), [''])#.get('B4')\n",
    "timelist = time_series_data.aggregate_array('system:time_start').getInfo()\n",
    "print('times sorted')\n",
    "bandlist = time_series_data.aggregate_array('median').getInfo()\n",
    "print('bands sorted')\n",
    "#QC_check = time_series_data.aggregate_array('state_1km').getInfo()\n",
    "#print('QC sorted')\n",
    "dataset = {'Time': timelist,\n",
    "            'lat': [coord[0] for count in range(len(timelist))],\n",
    "            'lon': [coord[1] for count in range(len(timelist))],\n",
    "            'Stations_Id': [np.int64(coord[2]) for count in range(len(timelist))]\n",
    "            }"
   ]
  },
  {
   "cell_type": "code",
   "execution_count": 62,
   "metadata": {},
   "outputs": [],
   "source": [
    "[f'sur_refl_b0{n}' for n in range(1, 5)].append(['NDVI'])"
   ]
  },
  {
   "cell_type": "code",
   "execution_count": null,
   "metadata": {},
   "outputs": [],
   "source": [
    "bands = [f'sur_refl_b0{n}' for n in range(1, 5)]\n",
    "bands.append('NDVI')\n",
    "for band in bands:\n",
    "    dataset[f'Median {band}'] = [band_data[band] for band_data in bandlist]\n",
    "df = pd.DataFrame(dataset)\n",
    "df['formatted_time'] = pd.to_datetime(df['Time'], unit='ms').dt.strftime('%Y-%m-%d-%H-%M-%S')"
   ]
  },
  {
   "cell_type": "code",
   "execution_count": 33,
   "metadata": {},
   "outputs": [],
   "source": [
    "time_series_data = ndvi_dataset.select('NDVI', 'state_1km')#.map(get_median)\n",
    "QC_check = time_series_data.aggregate_array('state_1km').getInfo()"
   ]
  },
  {
   "cell_type": "code",
   "execution_count": null,
   "metadata": {},
   "outputs": [],
   "source": [
    "time_series_data = ndvi_dataset.select('NDVI').getRegion(location, 30).getInfo() "
   ]
  },
  {
   "cell_type": "code",
   "execution_count": 58,
   "metadata": {},
   "outputs": [
    {
     "data": {
      "text/plain": [
       "array([[ 9.4333, 54.7833],\n",
       "       [10.15  , 54.4   ],\n",
       "       [10.05  , 54.3167],\n",
       "       [10.6667, 53.8833],\n",
       "       [10.7   , 53.85  ],\n",
       "       [ 9.9833, 54.0833],\n",
       "       [ 9.7   , 54.4333],\n",
       "       [ 9.9833, 54.6167],\n",
       "       [ 9.9667, 54.4   ],\n",
       "       [ 9.85  , 54.4   ]])"
      ]
     },
     "execution_count": 58,
     "metadata": {},
     "output_type": "execute_result"
    }
   ],
   "source": [
    "coords[:10, :2]"
   ]
  },
  {
   "cell_type": "code",
   "execution_count": 63,
   "metadata": {},
   "outputs": [],
   "source": [
    "#points = ee.Geometry.MultiPoint(coords[:2, :2].tolist())\n",
    "location = ee.Geometry.Point([10.05, 54.3167])\n",
    "time_series_data = filtered_dataset.select('B4', 'B8').getRegion(location, 30).getInfo()   #location, 30).getInfo()#"
   ]
  }
 ],
 "metadata": {
  "kernelspec": {
   "display_name": "earthengine_venv",
   "language": "python",
   "name": "earthengine_venv"
  },
  "language_info": {
   "codemirror_mode": {
    "name": "ipython",
    "version": 3
   },
   "file_extension": ".py",
   "mimetype": "text/x-python",
   "name": "python",
   "nbconvert_exporter": "python",
   "pygments_lexer": "ipython3",
   "version": "3.11.9"
  },
  "nbdime-conflicts": {
   "local_diff": [
    {
     "diff": [
      {
       "diff": [
        {
         "diff": [
          {
           "key": 5,
           "op": "addrange",
           "valuelist": "9"
          },
          {
           "key": 5,
           "length": 2,
           "op": "removerange"
          }
         ],
         "key": 0,
         "op": "patch"
        }
       ],
       "key": "version",
       "op": "patch"
      }
     ],
     "key": "language_info",
     "op": "patch"
    }
   ],
   "remote_diff": [
    {
     "diff": [
      {
       "diff": [
        {
         "diff": [
          {
           "key": 6,
           "op": "addrange",
           "valuelist": "1"
          },
          {
           "key": 6,
           "length": 1,
           "op": "removerange"
          }
         ],
         "key": 0,
         "op": "patch"
        }
       ],
       "key": "version",
       "op": "patch"
      }
     ],
     "key": "language_info",
     "op": "patch"
    }
   ]
  }
 },
 "nbformat": 4,
 "nbformat_minor": 4
}
