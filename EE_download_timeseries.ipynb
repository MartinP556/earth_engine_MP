{
 "cells": [
  {
   "cell_type": "code",
   "execution_count": 5,
   "metadata": {},
   "outputs": [],
   "source": [
    "import ee\n",
    "from google.oauth2 import service_account\n",
    "import numpy as np\n",
    "import pandas as pd\n",
    "from masks import mask_MODIS_clouds, MODIS_Mask_QC, mask_s2_clouds, mask_s2_clouds_collection\n",
    "\n",
    "\n",
    "# Path to the private key file\n",
    "key_path = 'Access/ee-martinparker637-e68fde65abb4.json'\n",
    "\n",
    "# Load the service account credentials\n",
    "credentials = service_account.Credentials.from_service_account_file(\n",
    "    key_path,\n",
    "    scopes=['https://www.googleapis.com/auth/earthengine'])\n",
    "\n",
    "# Initialize Earth Engine with the service account credentials\n",
    "ee.Initialize(credentials)"
   ]
  },
  {
   "cell_type": "code",
   "execution_count": 2,
   "metadata": {},
   "outputs": [],
   "source": [
    "root_directory = ''#'home/users/wlwc1989/phenology_dwd/'\n",
    "#root_directory = 'C:\\\\Users\\\\wlwc1989\\\\Documents\\\\Phenology_Test_Notebooks\\\\phenology_dwd\\\\'"
   ]
  },
  {
   "cell_type": "code",
   "execution_count": 3,
   "metadata": {},
   "outputs": [],
   "source": [
    "coords = np.loadtxt(root_directory + \"Saved_files/station_coords.csv\", delimiter=',')"
   ]
  },
  {
   "cell_type": "code",
   "execution_count": 4,
   "metadata": {},
   "outputs": [],
   "source": [
    "#coords = np.loadtxt(\"C:\\\\Users\\\\wlwc1989\\\\Documents\\\\Phenology_Test_Notebooks\\\\phenology_dwd\\\\Saved_files\\\\station_coords.csv\", delimiter=',')"
   ]
  },
  {
   "cell_type": "code",
   "execution_count": 6,
   "metadata": {},
   "outputs": [],
   "source": [
    "def satellite_data_at_coords(coords, start_date = '2000-01-01', end_date = '2022-12-31', instrument = \"COPERNICUS/S2_SR_HARMONIZED\", bands = ['B4', 'B8'], box_width = 0.002, pixel_scale = 500, QC_function = mask_s2_clouds):\n",
    "    for coord_index, coord in enumerate(coords):\n",
    "        print(coord_index)\n",
    "        location = ee.Geometry.BBox(coord[1] - box_width, coord[0] - box_width, coord[1] + box_width, coord[0] + box_width) #ee.Geometry.Point(coord[:2])#\n",
    "        dataset = ee.ImageCollection(instrument)\n",
    "        dataset = QC_function(dataset)\n",
    "        filtered_dataset = dataset.filterDate(start_date, end_date).filterBounds(location)\n",
    "        time_series_data = filtered_dataset.select(*bands).map(lambda img: img.set('median', img.reduceRegion(ee.Reducer.median(), location , pixel_scale)))#.getInfo()#.getRegion(location, pixel_scale).getInfo()#.getRegion(location, 30).getInfo()#('B4')#.median()#.get('B4')#reduceColumns(ee.Reducer.median().setOutputs(['median']), [''])#.get('B4')\n",
    "        timelist = time_series_data.aggregate_array('system:time_start').getInfo()\n",
    "        print('times retrieved')\n",
    "        bandlist = time_series_data.aggregate_array('median').getInfo()\n",
    "        print('bands retrieved')\n",
    "        dataset = {'Time': timelist,\n",
    "                   'lat': [coord[0] for count in range(len(timelist))],\n",
    "                   'lon': [coord[1] for count in range(len(timelist))],\n",
    "                   'Stations_Id': [np.int64(coord[2]) for count in range(len(timelist))]\n",
    "                   }\n",
    "        for band in bands:\n",
    "            dataset[f'Median {band}'] = [band_data[band] for band_data in bandlist]\n",
    "        df = pd.DataFrame(dataset)\n",
    "        df['formatted_time'] = pd.to_datetime(df['Time'], unit='ms').dt.strftime('%Y-%m-%d-%H-%M-%S')\n",
    "        if coord_index == 0:\n",
    "            df_full = df\n",
    "        else:\n",
    "            df_full = pd.concat([df_full, df])\n",
    "    return df_full"
   ]
  },
  {
   "cell_type": "code",
   "execution_count": 8,
   "metadata": {},
   "outputs": [
    {
     "name": "stdout",
     "output_type": "stream",
     "text": [
      "0\n",
      "times retrieved\n",
      "bands retrieved\n",
      "1\n",
      "times retrieved\n",
      "bands retrieved\n"
     ]
    }
   ],
   "source": [
    "df = satellite_data_at_coords(coords[:2], start_date='2020-10-01', instrument = \"MODIS/061/MOD09A1\", QC_function = lambda IC: IC, bands = [f'sur_refl_b0{n}' for n in range(1, 5)]) #\"MODIS/061/MOD09GA\""
   ]
  },
  {
   "cell_type": "code",
   "execution_count": null,
   "metadata": {},
   "outputs": [],
   "source": [
    "df = satellite_data_at_coords(coords[:2], start_date='2020-10-01', instrument = \"MODIS/061/MOD09A1\", QC_function = lambda IC: IC.map(MODIS_Mask_QC).map(mask_MODIS_clouds), bands = [f'sur_refl_b0{n}' for n in range(1, 5)]) #\"MODIS/061/MOD09GA\""
   ]
  },
  {
   "cell_type": "code",
   "execution_count": 9,
   "metadata": {},
   "outputs": [
    {
     "data": {
      "text/html": [
       "<div>\n",
       "<style scoped>\n",
       "    .dataframe tbody tr th:only-of-type {\n",
       "        vertical-align: middle;\n",
       "    }\n",
       "\n",
       "    .dataframe tbody tr th {\n",
       "        vertical-align: top;\n",
       "    }\n",
       "\n",
       "    .dataframe thead th {\n",
       "        text-align: right;\n",
       "    }\n",
       "</style>\n",
       "<table border=\"1\" class=\"dataframe\">\n",
       "  <thead>\n",
       "    <tr style=\"text-align: right;\">\n",
       "      <th></th>\n",
       "      <th>Time</th>\n",
       "      <th>lat</th>\n",
       "      <th>lon</th>\n",
       "      <th>Stations_Id</th>\n",
       "      <th>Median sur_refl_b01</th>\n",
       "      <th>Median sur_refl_b02</th>\n",
       "      <th>Median sur_refl_b03</th>\n",
       "      <th>Median sur_refl_b04</th>\n",
       "      <th>formatted_time</th>\n",
       "    </tr>\n",
       "  </thead>\n",
       "  <tbody>\n",
       "    <tr>\n",
       "      <th>0</th>\n",
       "      <td>1602028800000</td>\n",
       "      <td>54.7833</td>\n",
       "      <td>9.4333</td>\n",
       "      <td>7501</td>\n",
       "      <td>1043.0</td>\n",
       "      <td>2177.0</td>\n",
       "      <td>972.0</td>\n",
       "      <td>1081.0</td>\n",
       "      <td>2020-10-07-00-00-00</td>\n",
       "    </tr>\n",
       "    <tr>\n",
       "      <th>1</th>\n",
       "      <td>1602720000000</td>\n",
       "      <td>54.7833</td>\n",
       "      <td>9.4333</td>\n",
       "      <td>7501</td>\n",
       "      <td>365.0</td>\n",
       "      <td>998.0</td>\n",
       "      <td>244.0</td>\n",
       "      <td>334.0</td>\n",
       "      <td>2020-10-15-00-00-00</td>\n",
       "    </tr>\n",
       "    <tr>\n",
       "      <th>2</th>\n",
       "      <td>1603411200000</td>\n",
       "      <td>54.7833</td>\n",
       "      <td>9.4333</td>\n",
       "      <td>7501</td>\n",
       "      <td>598.0</td>\n",
       "      <td>2037.0</td>\n",
       "      <td>386.0</td>\n",
       "      <td>540.0</td>\n",
       "      <td>2020-10-23-00-00-00</td>\n",
       "    </tr>\n",
       "    <tr>\n",
       "      <th>3</th>\n",
       "      <td>1604102400000</td>\n",
       "      <td>54.7833</td>\n",
       "      <td>9.4333</td>\n",
       "      <td>7501</td>\n",
       "      <td>886.0</td>\n",
       "      <td>1758.0</td>\n",
       "      <td>576.0</td>\n",
       "      <td>816.0</td>\n",
       "      <td>2020-10-31-00-00-00</td>\n",
       "    </tr>\n",
       "    <tr>\n",
       "      <th>4</th>\n",
       "      <td>1604793600000</td>\n",
       "      <td>54.7833</td>\n",
       "      <td>9.4333</td>\n",
       "      <td>7501</td>\n",
       "      <td>1120.0</td>\n",
       "      <td>2199.0</td>\n",
       "      <td>748.0</td>\n",
       "      <td>1124.0</td>\n",
       "      <td>2020-11-08-00-00-00</td>\n",
       "    </tr>\n",
       "    <tr>\n",
       "      <th>...</th>\n",
       "      <td>...</td>\n",
       "      <td>...</td>\n",
       "      <td>...</td>\n",
       "      <td>...</td>\n",
       "      <td>...</td>\n",
       "      <td>...</td>\n",
       "      <td>...</td>\n",
       "      <td>...</td>\n",
       "      <td>...</td>\n",
       "    </tr>\n",
       "    <tr>\n",
       "      <th>98</th>\n",
       "      <td>1669334400000</td>\n",
       "      <td>54.4000</td>\n",
       "      <td>10.1500</td>\n",
       "      <td>7502</td>\n",
       "      <td>1922.0</td>\n",
       "      <td>2622.0</td>\n",
       "      <td>1994.0</td>\n",
       "      <td>2062.0</td>\n",
       "      <td>2022-11-25-00-00-00</td>\n",
       "    </tr>\n",
       "    <tr>\n",
       "      <th>99</th>\n",
       "      <td>1670025600000</td>\n",
       "      <td>54.4000</td>\n",
       "      <td>10.1500</td>\n",
       "      <td>7502</td>\n",
       "      <td>6277.0</td>\n",
       "      <td>8119.0</td>\n",
       "      <td>5382.0</td>\n",
       "      <td>6108.0</td>\n",
       "      <td>2022-12-03-00-00-00</td>\n",
       "    </tr>\n",
       "    <tr>\n",
       "      <th>100</th>\n",
       "      <td>1670716800000</td>\n",
       "      <td>54.4000</td>\n",
       "      <td>10.1500</td>\n",
       "      <td>7502</td>\n",
       "      <td>2475.0</td>\n",
       "      <td>3189.0</td>\n",
       "      <td>2573.0</td>\n",
       "      <td>2560.0</td>\n",
       "      <td>2022-12-11-00-00-00</td>\n",
       "    </tr>\n",
       "    <tr>\n",
       "      <th>101</th>\n",
       "      <td>1671408000000</td>\n",
       "      <td>54.4000</td>\n",
       "      <td>10.1500</td>\n",
       "      <td>7502</td>\n",
       "      <td>644.0</td>\n",
       "      <td>1713.0</td>\n",
       "      <td>756.0</td>\n",
       "      <td>791.0</td>\n",
       "      <td>2022-12-19-00-00-00</td>\n",
       "    </tr>\n",
       "    <tr>\n",
       "      <th>102</th>\n",
       "      <td>1672099200000</td>\n",
       "      <td>54.4000</td>\n",
       "      <td>10.1500</td>\n",
       "      <td>7502</td>\n",
       "      <td>203.0</td>\n",
       "      <td>404.0</td>\n",
       "      <td>160.0</td>\n",
       "      <td>304.0</td>\n",
       "      <td>2022-12-27-00-00-00</td>\n",
       "    </tr>\n",
       "  </tbody>\n",
       "</table>\n",
       "<p>206 rows × 9 columns</p>\n",
       "</div>"
      ],
      "text/plain": [
       "              Time      lat      lon  Stations_Id  Median sur_refl_b01  \\\n",
       "0    1602028800000  54.7833   9.4333         7501               1043.0   \n",
       "1    1602720000000  54.7833   9.4333         7501                365.0   \n",
       "2    1603411200000  54.7833   9.4333         7501                598.0   \n",
       "3    1604102400000  54.7833   9.4333         7501                886.0   \n",
       "4    1604793600000  54.7833   9.4333         7501               1120.0   \n",
       "..             ...      ...      ...          ...                  ...   \n",
       "98   1669334400000  54.4000  10.1500         7502               1922.0   \n",
       "99   1670025600000  54.4000  10.1500         7502               6277.0   \n",
       "100  1670716800000  54.4000  10.1500         7502               2475.0   \n",
       "101  1671408000000  54.4000  10.1500         7502                644.0   \n",
       "102  1672099200000  54.4000  10.1500         7502                203.0   \n",
       "\n",
       "     Median sur_refl_b02  Median sur_refl_b03  Median sur_refl_b04  \\\n",
       "0                 2177.0                972.0               1081.0   \n",
       "1                  998.0                244.0                334.0   \n",
       "2                 2037.0                386.0                540.0   \n",
       "3                 1758.0                576.0                816.0   \n",
       "4                 2199.0                748.0               1124.0   \n",
       "..                   ...                  ...                  ...   \n",
       "98                2622.0               1994.0               2062.0   \n",
       "99                8119.0               5382.0               6108.0   \n",
       "100               3189.0               2573.0               2560.0   \n",
       "101               1713.0                756.0                791.0   \n",
       "102                404.0                160.0                304.0   \n",
       "\n",
       "          formatted_time  \n",
       "0    2020-10-07-00-00-00  \n",
       "1    2020-10-15-00-00-00  \n",
       "2    2020-10-23-00-00-00  \n",
       "3    2020-10-31-00-00-00  \n",
       "4    2020-11-08-00-00-00  \n",
       "..                   ...  \n",
       "98   2022-11-25-00-00-00  \n",
       "99   2022-12-03-00-00-00  \n",
       "100  2022-12-11-00-00-00  \n",
       "101  2022-12-19-00-00-00  \n",
       "102  2022-12-27-00-00-00  \n",
       "\n",
       "[206 rows x 9 columns]"
      ]
     },
     "execution_count": 9,
     "metadata": {},
     "output_type": "execute_result"
    }
   ],
   "source": [
    "df"
   ]
  },
  {
   "cell_type": "code",
   "execution_count": 69,
   "metadata": {},
   "outputs": [],
   "source": [
    "def mask_s2_clouds(image):\n",
    "    \"\"\"Masks clouds in a Sentinel-2 image using the QA band.\n",
    "\n",
    "    Args:\n",
    "        image (ee.Image): A Sentinel-2 image.\n",
    "\n",
    "    Returns:\n",
    "        ee.Image: A cloud-masked Sentinel-2 image.\n",
    "    \"\"\"\n",
    "    qa = image.select('QA60')\n",
    "\n",
    "    # Bits 10 and 11 are clouds and cirrus, respectively.\n",
    "    cloud_bit_mask = 1 << 10\n",
    "    cirrus_bit_mask = 1 << 11\n",
    "\n",
    "    # Both flags should be set to zero, indicating clear conditions.\n",
    "    mask = (\n",
    "        qa.bitwiseAnd(cloud_bit_mask)\n",
    "        .eq(0)\n",
    "        .And(qa.bitwiseAnd(cirrus_bit_mask).eq(0))\n",
    "    )\n",
    "\n",
    "    return image.updateMask(mask)\n"
   ]
  },
  {
   "cell_type": "code",
   "execution_count": 70,
   "metadata": {},
   "outputs": [],
   "source": [
    "def mask_MODIS_clouds(image):\n",
    "    \"\"\"Masks clouds in a Sentinel-2 image using the stateQA band.\n",
    "\n",
    "    Args:\n",
    "        image (ee.Image): A Sentinel-2 image.\n",
    "\n",
    "    Returns:\n",
    "        ee.Image: A cloud-masked Sentinel-2 image.\n",
    "    \"\"\"\n",
    "    qa = image.select('state_1km')\n",
    "    # Bits 0-1 are cloud, 2 cloud shadow, 8-9 cirrus\n",
    "    cloud_bit_mask = 3 << 0\n",
    "    #cloud_bit_mask2 = 1 << 1\n",
    "    cloud_shadow_bit_mask = 1 << 2\n",
    "    cirrus_bit_mask = 3 << 8\n",
    "    #cirrus_bit_mask2 = 1 << 9\n",
    "    mask = (\n",
    "        qa.bitwiseAnd(cloud_bit_mask).eq(0)\n",
    "        .And(qa.bitwiseAnd(cirrus_bit_mask).eq(0)\n",
    "             .And(qa.bitwiseAnd(cloud_shadow_bit_mask).eq(0)\n",
    "                 )\n",
    "            )\n",
    "    )\n",
    "    return image.updateMask(mask)"
   ]
  },
  {
   "cell_type": "code",
   "execution_count": 85,
   "metadata": {},
   "outputs": [],
   "source": [
    "def MODIS_Mask_QC(image):\n",
    "    \"\"\"Masks clouds in a Sentinel-2 image using the stateQA band.\n",
    "\n",
    "    Args:\n",
    "        image (ee.Image): A Sentinel-2 image.\n",
    "\n",
    "    Returns:\n",
    "        ee.Image: A cloud-masked Sentinel-2 image.\n",
    "    \"\"\"\n",
    "    qa = image.select('QC_500m')\n",
    "    # Bits 0-1 are cloud, 2 cloud shadow, 8-9 cirrus\n",
    "    b1_mask = 15 << 2\n",
    "    b2_mask = 15 << 6\n",
    "    b3_mask = 15 << 10\n",
    "    b4_mask = 15 << 14\n",
    "    mask = (\n",
    "        qa.bitwiseAnd(b1_mask).eq(0)\n",
    "        .And(qa.bitwiseAnd(b2_mask).eq(0)\n",
    "             .And(qa.bitwiseAnd(b3_mask).eq(0)\n",
    "                  .And(qa.bitwiseAnd(b4_mask).eq(0)\n",
    "                      )\n",
    "                 )\n",
    "            )\n",
    "    )\n",
    "    return image.updateMask(mask)"
   ]
  },
  {
   "cell_type": "code",
   "execution_count": 72,
   "metadata": {},
   "outputs": [],
   "source": [
    "def mask_s2_clouds_collection(image_collection):\n",
    "    \"\"\"Masks clouds in a Sentinel-2 image collection using the SLC band.\n",
    "\n",
    "    Args:\n",
    "        image (ee.ImageCollection): A Sentinel-2 image collection.\n",
    "\n",
    "    Returns:\n",
    "        ee.Image: A cloud-masked Sentinel-2 image collection.\n",
    "    \"\"\"\n",
    "    return image_collection.map(mask_s2_clouds)"
   ]
  },
  {
   "cell_type": "code",
   "execution_count": 88,
   "metadata": {},
   "outputs": [
    {
     "data": {
      "text/html": [
       "<div>\n",
       "<style scoped>\n",
       "    .dataframe tbody tr th:only-of-type {\n",
       "        vertical-align: middle;\n",
       "    }\n",
       "\n",
       "    .dataframe tbody tr th {\n",
       "        vertical-align: top;\n",
       "    }\n",
       "\n",
       "    .dataframe thead th {\n",
       "        text-align: right;\n",
       "    }\n",
       "</style>\n",
       "<table border=\"1\" class=\"dataframe\">\n",
       "  <thead>\n",
       "    <tr style=\"text-align: right;\">\n",
       "      <th></th>\n",
       "      <th>Time</th>\n",
       "      <th>lat</th>\n",
       "      <th>lon</th>\n",
       "      <th>Stations_Id</th>\n",
       "      <th>Median sur_refl_b01</th>\n",
       "      <th>Median sur_refl_b02</th>\n",
       "      <th>Median sur_refl_b03</th>\n",
       "      <th>Median sur_refl_b04</th>\n",
       "      <th>formatted_time</th>\n",
       "    </tr>\n",
       "  </thead>\n",
       "  <tbody>\n",
       "    <tr>\n",
       "      <th>0</th>\n",
       "      <td>1601510400000</td>\n",
       "      <td>54.7833</td>\n",
       "      <td>9.4333</td>\n",
       "      <td>7501</td>\n",
       "      <td>5123.0</td>\n",
       "      <td>5745.0</td>\n",
       "      <td>4784.0</td>\n",
       "      <td>4979.0</td>\n",
       "      <td>2020-10-01-00-00-00</td>\n",
       "    </tr>\n",
       "    <tr>\n",
       "      <th>1</th>\n",
       "      <td>1601596800000</td>\n",
       "      <td>54.7833</td>\n",
       "      <td>9.4333</td>\n",
       "      <td>7501</td>\n",
       "      <td>4805.0</td>\n",
       "      <td>5016.0</td>\n",
       "      <td>5169.0</td>\n",
       "      <td>4898.0</td>\n",
       "      <td>2020-10-02-00-00-00</td>\n",
       "    </tr>\n",
       "    <tr>\n",
       "      <th>2</th>\n",
       "      <td>1601683200000</td>\n",
       "      <td>54.7833</td>\n",
       "      <td>9.4333</td>\n",
       "      <td>7501</td>\n",
       "      <td>8798.0</td>\n",
       "      <td>8922.0</td>\n",
       "      <td>8992.0</td>\n",
       "      <td>8906.0</td>\n",
       "      <td>2020-10-03-00-00-00</td>\n",
       "    </tr>\n",
       "    <tr>\n",
       "      <th>3</th>\n",
       "      <td>1601769600000</td>\n",
       "      <td>54.7833</td>\n",
       "      <td>9.4333</td>\n",
       "      <td>7501</td>\n",
       "      <td>198.0</td>\n",
       "      <td>649.0</td>\n",
       "      <td>146.0</td>\n",
       "      <td>197.0</td>\n",
       "      <td>2020-10-04-00-00-00</td>\n",
       "    </tr>\n",
       "    <tr>\n",
       "      <th>4</th>\n",
       "      <td>1601856000000</td>\n",
       "      <td>54.7833</td>\n",
       "      <td>9.4333</td>\n",
       "      <td>7501</td>\n",
       "      <td>1693.0</td>\n",
       "      <td>2471.0</td>\n",
       "      <td>1825.0</td>\n",
       "      <td>1778.0</td>\n",
       "      <td>2020-10-05-00-00-00</td>\n",
       "    </tr>\n",
       "    <tr>\n",
       "      <th>...</th>\n",
       "      <td>...</td>\n",
       "      <td>...</td>\n",
       "      <td>...</td>\n",
       "      <td>...</td>\n",
       "      <td>...</td>\n",
       "      <td>...</td>\n",
       "      <td>...</td>\n",
       "      <td>...</td>\n",
       "      <td>...</td>\n",
       "    </tr>\n",
       "    <tr>\n",
       "      <th>804</th>\n",
       "      <td>1672012800000</td>\n",
       "      <td>54.4000</td>\n",
       "      <td>10.1500</td>\n",
       "      <td>7502</td>\n",
       "      <td>4882.0</td>\n",
       "      <td>4813.0</td>\n",
       "      <td>5753.0</td>\n",
       "      <td>5038.0</td>\n",
       "      <td>2022-12-26-00-00-00</td>\n",
       "    </tr>\n",
       "    <tr>\n",
       "      <th>805</th>\n",
       "      <td>1672099200000</td>\n",
       "      <td>54.4000</td>\n",
       "      <td>10.1500</td>\n",
       "      <td>7502</td>\n",
       "      <td>637.0</td>\n",
       "      <td>2581.0</td>\n",
       "      <td>376.0</td>\n",
       "      <td>697.0</td>\n",
       "      <td>2022-12-27-00-00-00</td>\n",
       "    </tr>\n",
       "    <tr>\n",
       "      <th>806</th>\n",
       "      <td>1672185600000</td>\n",
       "      <td>54.4000</td>\n",
       "      <td>10.1500</td>\n",
       "      <td>7502</td>\n",
       "      <td>7950.0</td>\n",
       "      <td>8195.0</td>\n",
       "      <td>7880.0</td>\n",
       "      <td>7983.0</td>\n",
       "      <td>2022-12-28-00-00-00</td>\n",
       "    </tr>\n",
       "    <tr>\n",
       "      <th>807</th>\n",
       "      <td>1672272000000</td>\n",
       "      <td>54.4000</td>\n",
       "      <td>10.1500</td>\n",
       "      <td>7502</td>\n",
       "      <td>7946.0</td>\n",
       "      <td>8172.0</td>\n",
       "      <td>7097.0</td>\n",
       "      <td>7791.0</td>\n",
       "      <td>2022-12-29-00-00-00</td>\n",
       "    </tr>\n",
       "    <tr>\n",
       "      <th>808</th>\n",
       "      <td>1672358400000</td>\n",
       "      <td>54.4000</td>\n",
       "      <td>10.1500</td>\n",
       "      <td>7502</td>\n",
       "      <td>4106.0</td>\n",
       "      <td>4498.0</td>\n",
       "      <td>4175.0</td>\n",
       "      <td>4258.0</td>\n",
       "      <td>2022-12-30-00-00-00</td>\n",
       "    </tr>\n",
       "  </tbody>\n",
       "</table>\n",
       "<p>1618 rows × 9 columns</p>\n",
       "</div>"
      ],
      "text/plain": [
       "              Time      lat      lon  Stations_Id  Median sur_refl_b01  \\\n",
       "0    1601510400000  54.7833   9.4333         7501               5123.0   \n",
       "1    1601596800000  54.7833   9.4333         7501               4805.0   \n",
       "2    1601683200000  54.7833   9.4333         7501               8798.0   \n",
       "3    1601769600000  54.7833   9.4333         7501                198.0   \n",
       "4    1601856000000  54.7833   9.4333         7501               1693.0   \n",
       "..             ...      ...      ...          ...                  ...   \n",
       "804  1672012800000  54.4000  10.1500         7502               4882.0   \n",
       "805  1672099200000  54.4000  10.1500         7502                637.0   \n",
       "806  1672185600000  54.4000  10.1500         7502               7950.0   \n",
       "807  1672272000000  54.4000  10.1500         7502               7946.0   \n",
       "808  1672358400000  54.4000  10.1500         7502               4106.0   \n",
       "\n",
       "     Median sur_refl_b02  Median sur_refl_b03  Median sur_refl_b04  \\\n",
       "0                 5745.0               4784.0               4979.0   \n",
       "1                 5016.0               5169.0               4898.0   \n",
       "2                 8922.0               8992.0               8906.0   \n",
       "3                  649.0                146.0                197.0   \n",
       "4                 2471.0               1825.0               1778.0   \n",
       "..                   ...                  ...                  ...   \n",
       "804               4813.0               5753.0               5038.0   \n",
       "805               2581.0                376.0                697.0   \n",
       "806               8195.0               7880.0               7983.0   \n",
       "807               8172.0               7097.0               7791.0   \n",
       "808               4498.0               4175.0               4258.0   \n",
       "\n",
       "          formatted_time  \n",
       "0    2020-10-01-00-00-00  \n",
       "1    2020-10-02-00-00-00  \n",
       "2    2020-10-03-00-00-00  \n",
       "3    2020-10-04-00-00-00  \n",
       "4    2020-10-05-00-00-00  \n",
       "..                   ...  \n",
       "804  2022-12-26-00-00-00  \n",
       "805  2022-12-27-00-00-00  \n",
       "806  2022-12-28-00-00-00  \n",
       "807  2022-12-29-00-00-00  \n",
       "808  2022-12-30-00-00-00  \n",
       "\n",
       "[1618 rows x 9 columns]"
      ]
     },
     "execution_count": 88,
     "metadata": {},
     "output_type": "execute_result"
    }
   ],
   "source": [
    "df#.dropna()"
   ]
  },
  {
   "cell_type": "code",
   "execution_count": 10,
   "metadata": {},
   "outputs": [
    {
     "data": {
      "text/plain": [
       "array([[  54.7833,    9.4333, 7501.    ],\n",
       "       [  54.4   ,   10.15  , 7502.    ],\n",
       "       [  54.3167,   10.05  , 7504.    ]])"
      ]
     },
     "execution_count": 10,
     "metadata": {},
     "output_type": "execute_result"
    }
   ],
   "source": [
    "coords[:3]"
   ]
  },
  {
   "cell_type": "code",
   "execution_count": 18,
   "metadata": {},
   "outputs": [],
   "source": [
    "df.to_csv(root_directory + 'Saved_files/sat_data0.csv')"
   ]
  },
  {
   "cell_type": "code",
   "execution_count": 22,
   "metadata": {},
   "outputs": [
    {
     "ename": "SyntaxError",
     "evalue": "expected ':' (1440415578.py, line 2)",
     "output_type": "error",
     "traceback": [
      "\u001b[1;36m  Cell \u001b[1;32mIn[22], line 2\u001b[1;36m\u001b[0m\n\u001b[1;33m    for station in df['Stations_Id'].unique()\u001b[0m\n\u001b[1;37m                                             ^\u001b[0m\n\u001b[1;31mSyntaxError\u001b[0m\u001b[1;31m:\u001b[0m expected ':'\n"
     ]
    }
   ],
   "source": [
    "fig, ax = plt.subplots()\n",
    "for station in df['Stations_Id'].unique():\n",
    "    df_reduced = df.where(df['Stations_Id'] == station).dropna()\n",
    "    plt.plot(df_reduced['formatted_time'], df_reduced['Median B4'])"
   ]
  },
  {
   "cell_type": "code",
   "execution_count": 47,
   "metadata": {},
   "outputs": [],
   "source": [
    "#location = ee.Geometry.Point([10.05, 54.3167]) #(lon, lat)\n",
    "Instrument = \"MODIS/061/MOD09GA\"\n",
    "#Instrument = \"MODIS/061/MOD09GQ\"\n",
    "#Instrument = \"COPERNICUS/S2_SR_HARMONIZED\"\n",
    "coord = [54.3167, 10.05, 7504.0]\n",
    "box_width = 0.002\n",
    "\n",
    "location = ee.Geometry.BBox(8, 48, 15, 58)#ee.Geometry.BBox(coord[1] - box_width, coord[0] - box_width, coord[1] + box_width, coord[0] + box_width)\n",
    "# Define the satellite imagery dataset (e.g., Landsat 8)\n",
    "dataset = ee.ImageCollection(Instrument)\n",
    "\n",
    "# Filter the dataset by location and date range\n",
    "filtered_dataset = dataset.filterBounds(location).filterDate('2000-01-01', '2022-12-31')"
   ]
  },
  {
   "cell_type": "code",
   "execution_count": 52,
   "metadata": {},
   "outputs": [],
   "source": [
    "filtered_dataset = filtered_dataset.map(MODIS_Mask_QC).map(mask_MODIS_clouds)"
   ]
  },
  {
   "cell_type": "code",
   "execution_count": 53,
   "metadata": {},
   "outputs": [],
   "source": [
    "# Define a function to calculate NDVI\n",
    "def calculate_ndvi(image, band1 = 'B4', band2 = 'B8'):\n",
    "    ndvi = image.normalizedDifference([band1, band2]).rename('NDVI')\n",
    "    return image.addBands(ndvi)\n",
    "\n",
    "def get_median(image):\n",
    "    return image.set('median', image.reduceRegion(ee.Reducer.median(), location , pixel_scale))\n",
    "\n",
    "# Map the NDVI calculation function over the filtered dataset\n",
    "ndvi_dataset = filtered_dataset.map(lambda image: calculate_ndvi(image, band1 = 'sur_refl_b01', band2 = 'sur_refl_b02'))"
   ]
  },
  {
   "cell_type": "code",
   "execution_count": 54,
   "metadata": {},
   "outputs": [],
   "source": [
    "location = ee.Geometry.BBox(coord[1] - box_width, coord[0] - box_width, coord[1] + box_width, coord[0] + box_width) #ee.Geometry.Point(coord[:2])#\n",
    "ndvi_dataset = ndvi_dataset.filterBounds(location)"
   ]
  },
  {
   "cell_type": "code",
   "execution_count": 27,
   "metadata": {},
   "outputs": [],
   "source": [
    "ndvi_dataset = ndvi_dataset.map(mask_MODIS_clouds)"
   ]
  },
  {
   "cell_type": "code",
   "execution_count": null,
   "metadata": {},
   "outputs": [
    {
     "name": "stdout",
     "output_type": "stream",
     "text": [
      "times sorted\n"
     ]
    }
   ],
   "source": [
    "pixel_scale = 500\n",
    "bands = [f'sur_refl_b0{n}' for n in range(1, 5)]\n",
    "bands.append('NDVI')\n",
    "time_series_data = ndvi_dataset.select(bands).map(get_median)#.getInfo()#.getRegion(location, pixel_scale).getInfo()#.getRegion(location, 30).getInfo()#('B4')#.median()#.get('B4')#reduceColumns(ee.Reducer.median().setOutputs(['median']), [''])#.get('B4')\n",
    "timelist = time_series_data.aggregate_array('system:time_start').getInfo()\n",
    "print('times sorted')\n",
    "bandlist = time_series_data.aggregate_array('median').getInfo()\n",
    "print('bands sorted')\n",
    "#QC_check = time_series_data.aggregate_array('state_1km').getInfo()\n",
    "#print('QC sorted')\n",
    "dataset = {'Time': timelist,\n",
    "            'lat': [coord[0] for count in range(len(timelist))],\n",
    "            'lon': [coord[1] for count in range(len(timelist))],\n",
    "            'Stations_Id': [np.int64(coord[2]) for count in range(len(timelist))]\n",
    "            }"
   ]
  },
  {
   "cell_type": "code",
   "execution_count": 62,
   "metadata": {},
   "outputs": [],
   "source": [
    "[f'sur_refl_b0{n}' for n in range(1, 5)].append(['NDVI'])"
   ]
  },
  {
   "cell_type": "code",
   "execution_count": 63,
   "metadata": {},
   "outputs": [
    {
     "ename": "KeyError",
     "evalue": "'sur_refl_b01'",
     "output_type": "error",
     "traceback": [
      "\u001b[0;31m---------------------------------------------------------------------------\u001b[0m",
      "\u001b[0;31mKeyError\u001b[0m                                  Traceback (most recent call last)",
      "Cell \u001b[0;32mIn[63], line 4\u001b[0m\n\u001b[1;32m      2\u001b[0m bands\u001b[38;5;241m.\u001b[39mappend(\u001b[38;5;124m'\u001b[39m\u001b[38;5;124mNDVI\u001b[39m\u001b[38;5;124m'\u001b[39m)\n\u001b[1;32m      3\u001b[0m \u001b[38;5;28;01mfor\u001b[39;00m band \u001b[38;5;129;01min\u001b[39;00m bands:\n\u001b[0;32m----> 4\u001b[0m     dataset[\u001b[38;5;124mf\u001b[39m\u001b[38;5;124m'\u001b[39m\u001b[38;5;124mMedian \u001b[39m\u001b[38;5;132;01m{\u001b[39;00mband\u001b[38;5;132;01m}\u001b[39;00m\u001b[38;5;124m'\u001b[39m] \u001b[38;5;241m=\u001b[39m \u001b[43m[\u001b[49m\u001b[43mband_data\u001b[49m\u001b[43m[\u001b[49m\u001b[43mband\u001b[49m\u001b[43m]\u001b[49m\u001b[43m \u001b[49m\u001b[38;5;28;43;01mfor\u001b[39;49;00m\u001b[43m \u001b[49m\u001b[43mband_data\u001b[49m\u001b[43m \u001b[49m\u001b[38;5;129;43;01min\u001b[39;49;00m\u001b[43m \u001b[49m\u001b[43mbandlist\u001b[49m\u001b[43m]\u001b[49m\n\u001b[1;32m      5\u001b[0m df \u001b[38;5;241m=\u001b[39m pd\u001b[38;5;241m.\u001b[39mDataFrame(dataset)\n\u001b[1;32m      6\u001b[0m df[\u001b[38;5;124m'\u001b[39m\u001b[38;5;124mformatted_time\u001b[39m\u001b[38;5;124m'\u001b[39m] \u001b[38;5;241m=\u001b[39m pd\u001b[38;5;241m.\u001b[39mto_datetime(df[\u001b[38;5;124m'\u001b[39m\u001b[38;5;124mTime\u001b[39m\u001b[38;5;124m'\u001b[39m], unit\u001b[38;5;241m=\u001b[39m\u001b[38;5;124m'\u001b[39m\u001b[38;5;124mms\u001b[39m\u001b[38;5;124m'\u001b[39m)\u001b[38;5;241m.\u001b[39mdt\u001b[38;5;241m.\u001b[39mstrftime(\u001b[38;5;124m'\u001b[39m\u001b[38;5;124m%\u001b[39m\u001b[38;5;124mY-\u001b[39m\u001b[38;5;124m%\u001b[39m\u001b[38;5;124mm-\u001b[39m\u001b[38;5;132;01m%d\u001b[39;00m\u001b[38;5;124m-\u001b[39m\u001b[38;5;124m%\u001b[39m\u001b[38;5;124mH-\u001b[39m\u001b[38;5;124m%\u001b[39m\u001b[38;5;124mM-\u001b[39m\u001b[38;5;124m%\u001b[39m\u001b[38;5;124mS\u001b[39m\u001b[38;5;124m'\u001b[39m)\n",
      "Cell \u001b[0;32mIn[63], line 4\u001b[0m, in \u001b[0;36m<listcomp>\u001b[0;34m(.0)\u001b[0m\n\u001b[1;32m      2\u001b[0m bands\u001b[38;5;241m.\u001b[39mappend(\u001b[38;5;124m'\u001b[39m\u001b[38;5;124mNDVI\u001b[39m\u001b[38;5;124m'\u001b[39m)\n\u001b[1;32m      3\u001b[0m \u001b[38;5;28;01mfor\u001b[39;00m band \u001b[38;5;129;01min\u001b[39;00m bands:\n\u001b[0;32m----> 4\u001b[0m     dataset[\u001b[38;5;124mf\u001b[39m\u001b[38;5;124m'\u001b[39m\u001b[38;5;124mMedian \u001b[39m\u001b[38;5;132;01m{\u001b[39;00mband\u001b[38;5;132;01m}\u001b[39;00m\u001b[38;5;124m'\u001b[39m] \u001b[38;5;241m=\u001b[39m [\u001b[43mband_data\u001b[49m\u001b[43m[\u001b[49m\u001b[43mband\u001b[49m\u001b[43m]\u001b[49m \u001b[38;5;28;01mfor\u001b[39;00m band_data \u001b[38;5;129;01min\u001b[39;00m bandlist]\n\u001b[1;32m      5\u001b[0m df \u001b[38;5;241m=\u001b[39m pd\u001b[38;5;241m.\u001b[39mDataFrame(dataset)\n\u001b[1;32m      6\u001b[0m df[\u001b[38;5;124m'\u001b[39m\u001b[38;5;124mformatted_time\u001b[39m\u001b[38;5;124m'\u001b[39m] \u001b[38;5;241m=\u001b[39m pd\u001b[38;5;241m.\u001b[39mto_datetime(df[\u001b[38;5;124m'\u001b[39m\u001b[38;5;124mTime\u001b[39m\u001b[38;5;124m'\u001b[39m], unit\u001b[38;5;241m=\u001b[39m\u001b[38;5;124m'\u001b[39m\u001b[38;5;124mms\u001b[39m\u001b[38;5;124m'\u001b[39m)\u001b[38;5;241m.\u001b[39mdt\u001b[38;5;241m.\u001b[39mstrftime(\u001b[38;5;124m'\u001b[39m\u001b[38;5;124m%\u001b[39m\u001b[38;5;124mY-\u001b[39m\u001b[38;5;124m%\u001b[39m\u001b[38;5;124mm-\u001b[39m\u001b[38;5;132;01m%d\u001b[39;00m\u001b[38;5;124m-\u001b[39m\u001b[38;5;124m%\u001b[39m\u001b[38;5;124mH-\u001b[39m\u001b[38;5;124m%\u001b[39m\u001b[38;5;124mM-\u001b[39m\u001b[38;5;124m%\u001b[39m\u001b[38;5;124mS\u001b[39m\u001b[38;5;124m'\u001b[39m)\n",
      "\u001b[0;31mKeyError\u001b[0m: 'sur_refl_b01'"
     ]
    }
   ],
   "source": [
    "bands = [f'sur_refl_b0{n}' for n in range(1, 5)]\n",
    "bands.append('NDVI')\n",
    "for band in bands:\n",
    "    dataset[f'Median {band}'] = [band_data[band] for band_data in bandlist]\n",
    "df = pd.DataFrame(dataset)\n",
    "df['formatted_time'] = pd.to_datetime(df['Time'], unit='ms').dt.strftime('%Y-%m-%d-%H-%M-%S')"
   ]
  },
  {
   "cell_type": "code",
   "execution_count": 33,
   "metadata": {},
   "outputs": [],
   "source": [
    "time_series_data = ndvi_dataset.select('NDVI', 'state_1km')#.map(get_median)\n",
    "QC_check = time_series_data.aggregate_array('state_1km').getInfo()"
   ]
  },
  {
   "cell_type": "code",
   "execution_count": 22,
   "metadata": {},
   "outputs": [
    {
     "data": {
      "text/html": [
       "<div>\n",
       "<style scoped>\n",
       "    .dataframe tbody tr th:only-of-type {\n",
       "        vertical-align: middle;\n",
       "    }\n",
       "\n",
       "    .dataframe tbody tr th {\n",
       "        vertical-align: top;\n",
       "    }\n",
       "\n",
       "    .dataframe thead th {\n",
       "        text-align: right;\n",
       "    }\n",
       "</style>\n",
       "<table border=\"1\" class=\"dataframe\">\n",
       "  <thead>\n",
       "    <tr style=\"text-align: right;\">\n",
       "      <th></th>\n",
       "      <th>Time</th>\n",
       "      <th>lat</th>\n",
       "      <th>lon</th>\n",
       "      <th>Stations_Id</th>\n",
       "      <th>Median NDVI</th>\n",
       "      <th>formatted_time</th>\n",
       "    </tr>\n",
       "  </thead>\n",
       "  <tbody>\n",
       "    <tr>\n",
       "      <th>73</th>\n",
       "      <td>957657600000</td>\n",
       "      <td>54.3167</td>\n",
       "      <td>10.05</td>\n",
       "      <td>7504</td>\n",
       "      <td>-0.668035</td>\n",
       "      <td>2000-05-07-00-00-00</td>\n",
       "    </tr>\n",
       "    <tr>\n",
       "      <th>82</th>\n",
       "      <td>958435200000</td>\n",
       "      <td>54.3167</td>\n",
       "      <td>10.05</td>\n",
       "      <td>7504</td>\n",
       "      <td>-0.631034</td>\n",
       "      <td>2000-05-16-00-00-00</td>\n",
       "    </tr>\n",
       "    <tr>\n",
       "      <th>168</th>\n",
       "      <td>966902400000</td>\n",
       "      <td>54.3167</td>\n",
       "      <td>10.05</td>\n",
       "      <td>7504</td>\n",
       "      <td>-0.532244</td>\n",
       "      <td>2000-08-22-00-00-00</td>\n",
       "    </tr>\n",
       "    <tr>\n",
       "      <th>289</th>\n",
       "      <td>977356800000</td>\n",
       "      <td>54.3167</td>\n",
       "      <td>10.05</td>\n",
       "      <td>7504</td>\n",
       "      <td>-0.385653</td>\n",
       "      <td>2000-12-21-00-00-00</td>\n",
       "    </tr>\n",
       "    <tr>\n",
       "      <th>310</th>\n",
       "      <td>979171200000</td>\n",
       "      <td>54.3167</td>\n",
       "      <td>10.05</td>\n",
       "      <td>7504</td>\n",
       "      <td>-0.499356</td>\n",
       "      <td>2001-01-11-00-00-00</td>\n",
       "    </tr>\n",
       "    <tr>\n",
       "      <th>...</th>\n",
       "      <td>...</td>\n",
       "      <td>...</td>\n",
       "      <td>...</td>\n",
       "      <td>...</td>\n",
       "      <td>...</td>\n",
       "      <td>...</td>\n",
       "    </tr>\n",
       "    <tr>\n",
       "      <th>8122</th>\n",
       "      <td>1657929600000</td>\n",
       "      <td>54.3167</td>\n",
       "      <td>10.05</td>\n",
       "      <td>7504</td>\n",
       "      <td>-0.608215</td>\n",
       "      <td>2022-07-16-00-00-00</td>\n",
       "    </tr>\n",
       "    <tr>\n",
       "      <th>8125</th>\n",
       "      <td>1658188800000</td>\n",
       "      <td>54.3167</td>\n",
       "      <td>10.05</td>\n",
       "      <td>7504</td>\n",
       "      <td>-0.576904</td>\n",
       "      <td>2022-07-19-00-00-00</td>\n",
       "    </tr>\n",
       "    <tr>\n",
       "      <th>8147</th>\n",
       "      <td>1660089600000</td>\n",
       "      <td>54.3167</td>\n",
       "      <td>10.05</td>\n",
       "      <td>7504</td>\n",
       "      <td>-0.582211</td>\n",
       "      <td>2022-08-10-00-00-00</td>\n",
       "    </tr>\n",
       "    <tr>\n",
       "      <th>8218</th>\n",
       "      <td>1667260800000</td>\n",
       "      <td>54.3167</td>\n",
       "      <td>10.05</td>\n",
       "      <td>7504</td>\n",
       "      <td>-0.550582</td>\n",
       "      <td>2022-11-01-00-00-00</td>\n",
       "    </tr>\n",
       "    <tr>\n",
       "      <th>8235</th>\n",
       "      <td>1668729600000</td>\n",
       "      <td>54.3167</td>\n",
       "      <td>10.05</td>\n",
       "      <td>7504</td>\n",
       "      <td>-0.775624</td>\n",
       "      <td>2022-11-18-00-00-00</td>\n",
       "    </tr>\n",
       "  </tbody>\n",
       "</table>\n",
       "<p>216 rows × 6 columns</p>\n",
       "</div>"
      ],
      "text/plain": [
       "               Time      lat    lon  Stations_Id  Median NDVI  \\\n",
       "73     957657600000  54.3167  10.05         7504    -0.668035   \n",
       "82     958435200000  54.3167  10.05         7504    -0.631034   \n",
       "168    966902400000  54.3167  10.05         7504    -0.532244   \n",
       "289    977356800000  54.3167  10.05         7504    -0.385653   \n",
       "310    979171200000  54.3167  10.05         7504    -0.499356   \n",
       "...             ...      ...    ...          ...          ...   \n",
       "8122  1657929600000  54.3167  10.05         7504    -0.608215   \n",
       "8125  1658188800000  54.3167  10.05         7504    -0.576904   \n",
       "8147  1660089600000  54.3167  10.05         7504    -0.582211   \n",
       "8218  1667260800000  54.3167  10.05         7504    -0.550582   \n",
       "8235  1668729600000  54.3167  10.05         7504    -0.775624   \n",
       "\n",
       "           formatted_time  \n",
       "73    2000-05-07-00-00-00  \n",
       "82    2000-05-16-00-00-00  \n",
       "168   2000-08-22-00-00-00  \n",
       "289   2000-12-21-00-00-00  \n",
       "310   2001-01-11-00-00-00  \n",
       "...                   ...  \n",
       "8122  2022-07-16-00-00-00  \n",
       "8125  2022-07-19-00-00-00  \n",
       "8147  2022-08-10-00-00-00  \n",
       "8218  2022-11-01-00-00-00  \n",
       "8235  2022-11-18-00-00-00  \n",
       "\n",
       "[216 rows x 6 columns]"
      ]
     },
     "execution_count": 22,
     "metadata": {},
     "output_type": "execute_result"
    }
   ],
   "source": [
    "df.dropna()"
   ]
  },
  {
   "cell_type": "code",
   "execution_count": 13,
   "metadata": {},
   "outputs": [
    {
     "ename": "EEException",
     "evalue": "ImageCollection.getRegion: Too many values: 963824480 points x 1 bands x 8278 images > 1048576.",
     "output_type": "error",
     "traceback": [
      "\u001b[0;31m---------------------------------------------------------------------------\u001b[0m",
      "\u001b[0;31mHttpError\u001b[0m                                 Traceback (most recent call last)",
      "File \u001b[0;32m~/.local/lib/python3.11/site-packages/ee/data.py:406\u001b[0m, in \u001b[0;36m_execute_cloud_call\u001b[0;34m(call, num_retries)\u001b[0m\n\u001b[1;32m    405\u001b[0m \u001b[38;5;28;01mtry\u001b[39;00m:\n\u001b[0;32m--> 406\u001b[0m   \u001b[38;5;28;01mreturn\u001b[39;00m \u001b[43mcall\u001b[49m\u001b[38;5;241;43m.\u001b[39;49m\u001b[43mexecute\u001b[49m\u001b[43m(\u001b[49m\u001b[43mnum_retries\u001b[49m\u001b[38;5;241;43m=\u001b[39;49m\u001b[43mnum_retries\u001b[49m\u001b[43m)\u001b[49m\n\u001b[1;32m    407\u001b[0m \u001b[38;5;28;01mexcept\u001b[39;00m googleapiclient\u001b[38;5;241m.\u001b[39merrors\u001b[38;5;241m.\u001b[39mHttpError \u001b[38;5;28;01mas\u001b[39;00m e:\n",
      "File \u001b[0;32m~/.local/lib/python3.11/site-packages/googleapiclient/_helpers.py:130\u001b[0m, in \u001b[0;36mpositional.<locals>.positional_decorator.<locals>.positional_wrapper\u001b[0;34m(*args, **kwargs)\u001b[0m\n\u001b[1;32m    129\u001b[0m         logger\u001b[38;5;241m.\u001b[39mwarning(message)\n\u001b[0;32m--> 130\u001b[0m \u001b[38;5;28;01mreturn\u001b[39;00m \u001b[43mwrapped\u001b[49m\u001b[43m(\u001b[49m\u001b[38;5;241;43m*\u001b[39;49m\u001b[43margs\u001b[49m\u001b[43m,\u001b[49m\u001b[43m \u001b[49m\u001b[38;5;241;43m*\u001b[39;49m\u001b[38;5;241;43m*\u001b[39;49m\u001b[43mkwargs\u001b[49m\u001b[43m)\u001b[49m\n",
      "File \u001b[0;32m~/.local/lib/python3.11/site-packages/googleapiclient/http.py:938\u001b[0m, in \u001b[0;36mHttpRequest.execute\u001b[0;34m(self, http, num_retries)\u001b[0m\n\u001b[1;32m    937\u001b[0m \u001b[38;5;28;01mif\u001b[39;00m resp\u001b[38;5;241m.\u001b[39mstatus \u001b[38;5;241m>\u001b[39m\u001b[38;5;241m=\u001b[39m \u001b[38;5;241m300\u001b[39m:\n\u001b[0;32m--> 938\u001b[0m     \u001b[38;5;28;01mraise\u001b[39;00m HttpError(resp, content, uri\u001b[38;5;241m=\u001b[39m\u001b[38;5;28mself\u001b[39m\u001b[38;5;241m.\u001b[39muri)\n\u001b[1;32m    939\u001b[0m \u001b[38;5;28;01mreturn\u001b[39;00m \u001b[38;5;28mself\u001b[39m\u001b[38;5;241m.\u001b[39mpostproc(resp, content)\n",
      "\u001b[0;31mHttpError\u001b[0m: <HttpError 400 when requesting https://earthengine.googleapis.com/v1/projects/earthengine-legacy/value:compute?prettyPrint=false&alt=json returned \"ImageCollection.getRegion: Too many values: 963824480 points x 1 bands x 8278 images > 1048576.\". Details: \"ImageCollection.getRegion: Too many values: 963824480 points x 1 bands x 8278 images > 1048576.\">",
      "\nDuring handling of the above exception, another exception occurred:\n",
      "\u001b[0;31mEEException\u001b[0m                               Traceback (most recent call last)",
      "Cell \u001b[0;32mIn[13], line 1\u001b[0m\n\u001b[0;32m----> 1\u001b[0m time_series_data \u001b[38;5;241m=\u001b[39m \u001b[43mndvi_dataset\u001b[49m\u001b[38;5;241;43m.\u001b[39;49m\u001b[43mselect\u001b[49m\u001b[43m(\u001b[49m\u001b[38;5;124;43m'\u001b[39;49m\u001b[38;5;124;43mNDVI\u001b[39;49m\u001b[38;5;124;43m'\u001b[39;49m\u001b[43m)\u001b[49m\u001b[38;5;241;43m.\u001b[39;49m\u001b[43mgetRegion\u001b[49m\u001b[43m(\u001b[49m\u001b[43mlocation\u001b[49m\u001b[43m,\u001b[49m\u001b[43m \u001b[49m\u001b[38;5;241;43m30\u001b[39;49m\u001b[43m)\u001b[49m\u001b[38;5;241;43m.\u001b[39;49m\u001b[43mgetInfo\u001b[49m\u001b[43m(\u001b[49m\u001b[43m)\u001b[49m \n",
      "File \u001b[0;32m~/.local/lib/python3.11/site-packages/ee/computedobject.py:107\u001b[0m, in \u001b[0;36mComputedObject.getInfo\u001b[0;34m(self)\u001b[0m\n\u001b[1;32m    101\u001b[0m \u001b[38;5;28;01mdef\u001b[39;00m \u001b[38;5;21mgetInfo\u001b[39m(\u001b[38;5;28mself\u001b[39m) \u001b[38;5;241m-\u001b[39m\u001b[38;5;241m>\u001b[39m Optional[Any]:\n\u001b[1;32m    102\u001b[0m \u001b[38;5;250m  \u001b[39m\u001b[38;5;124;03m\"\"\"Fetch and return information about this object.\u001b[39;00m\n\u001b[1;32m    103\u001b[0m \n\u001b[1;32m    104\u001b[0m \u001b[38;5;124;03m  Returns:\u001b[39;00m\n\u001b[1;32m    105\u001b[0m \u001b[38;5;124;03m    The object can evaluate to anything.\u001b[39;00m\n\u001b[1;32m    106\u001b[0m \u001b[38;5;124;03m  \"\"\"\u001b[39;00m\n\u001b[0;32m--> 107\u001b[0m   \u001b[38;5;28;01mreturn\u001b[39;00m \u001b[43mdata\u001b[49m\u001b[38;5;241;43m.\u001b[39;49m\u001b[43mcomputeValue\u001b[49m\u001b[43m(\u001b[49m\u001b[38;5;28;43mself\u001b[39;49m\u001b[43m)\u001b[49m\n",
      "File \u001b[0;32m~/.local/lib/python3.11/site-packages/ee/data.py:1126\u001b[0m, in \u001b[0;36mcomputeValue\u001b[0;34m(obj)\u001b[0m\n\u001b[1;32m   1123\u001b[0m body \u001b[38;5;241m=\u001b[39m {\u001b[38;5;124m'\u001b[39m\u001b[38;5;124mexpression\u001b[39m\u001b[38;5;124m'\u001b[39m: serializer\u001b[38;5;241m.\u001b[39mencode(obj, for_cloud_api\u001b[38;5;241m=\u001b[39m\u001b[38;5;28;01mTrue\u001b[39;00m)}\n\u001b[1;32m   1124\u001b[0m _maybe_populate_workload_tag(body)\n\u001b[0;32m-> 1126\u001b[0m \u001b[38;5;28;01mreturn\u001b[39;00m \u001b[43m_execute_cloud_call\u001b[49m\u001b[43m(\u001b[49m\n\u001b[1;32m   1127\u001b[0m \u001b[43m    \u001b[49m\u001b[43m_get_cloud_projects\u001b[49m\u001b[43m(\u001b[49m\u001b[43m)\u001b[49m\n\u001b[1;32m   1128\u001b[0m \u001b[43m    \u001b[49m\u001b[38;5;241;43m.\u001b[39;49m\u001b[43mvalue\u001b[49m\u001b[43m(\u001b[49m\u001b[43m)\u001b[49m\n\u001b[1;32m   1129\u001b[0m \u001b[43m    \u001b[49m\u001b[38;5;241;43m.\u001b[39;49m\u001b[43mcompute\u001b[49m\u001b[43m(\u001b[49m\u001b[43mbody\u001b[49m\u001b[38;5;241;43m=\u001b[39;49m\u001b[43mbody\u001b[49m\u001b[43m,\u001b[49m\u001b[43m \u001b[49m\u001b[43mproject\u001b[49m\u001b[38;5;241;43m=\u001b[39;49m\u001b[43m_get_projects_path\u001b[49m\u001b[43m(\u001b[49m\u001b[43m)\u001b[49m\u001b[43m,\u001b[49m\u001b[43m \u001b[49m\u001b[43mprettyPrint\u001b[49m\u001b[38;5;241;43m=\u001b[39;49m\u001b[38;5;28;43;01mFalse\u001b[39;49;00m\u001b[43m)\u001b[49m\n\u001b[1;32m   1130\u001b[0m \u001b[43m\u001b[49m\u001b[43m)\u001b[49m[\u001b[38;5;124m'\u001b[39m\u001b[38;5;124mresult\u001b[39m\u001b[38;5;124m'\u001b[39m]\n",
      "File \u001b[0;32m~/.local/lib/python3.11/site-packages/ee/data.py:408\u001b[0m, in \u001b[0;36m_execute_cloud_call\u001b[0;34m(call, num_retries)\u001b[0m\n\u001b[1;32m    406\u001b[0m   \u001b[38;5;28;01mreturn\u001b[39;00m call\u001b[38;5;241m.\u001b[39mexecute(num_retries\u001b[38;5;241m=\u001b[39mnum_retries)\n\u001b[1;32m    407\u001b[0m \u001b[38;5;28;01mexcept\u001b[39;00m googleapiclient\u001b[38;5;241m.\u001b[39merrors\u001b[38;5;241m.\u001b[39mHttpError \u001b[38;5;28;01mas\u001b[39;00m e:\n\u001b[0;32m--> 408\u001b[0m   \u001b[38;5;28;01mraise\u001b[39;00m _translate_cloud_exception(e)\n",
      "\u001b[0;31mEEException\u001b[0m: ImageCollection.getRegion: Too many values: 963824480 points x 1 bands x 8278 images > 1048576."
     ]
    }
   ],
   "source": [
    "time_series_data = ndvi_dataset.select('NDVI').getRegion(location, 30).getInfo() "
   ]
  },
  {
   "cell_type": "code",
   "execution_count": 58,
   "metadata": {},
   "outputs": [
    {
     "data": {
      "text/plain": [
       "array([[ 9.4333, 54.7833],\n",
       "       [10.15  , 54.4   ],\n",
       "       [10.05  , 54.3167],\n",
       "       [10.6667, 53.8833],\n",
       "       [10.7   , 53.85  ],\n",
       "       [ 9.9833, 54.0833],\n",
       "       [ 9.7   , 54.4333],\n",
       "       [ 9.9833, 54.6167],\n",
       "       [ 9.9667, 54.4   ],\n",
       "       [ 9.85  , 54.4   ]])"
      ]
     },
     "execution_count": 58,
     "metadata": {},
     "output_type": "execute_result"
    }
   ],
   "source": [
    "coords[:10, :2]"
   ]
  },
  {
   "cell_type": "code",
   "execution_count": 63,
   "metadata": {},
   "outputs": [],
   "source": [
    "#points = ee.Geometry.MultiPoint(coords[:2, :2].tolist())\n",
    "location = ee.Geometry.Point([10.05, 54.3167])\n",
    "time_series_data = filtered_dataset.select('B4', 'B8').getRegion(location, 30).getInfo()   #location, 30).getInfo()#"
   ]
  },
  {
   "cell_type": "code",
   "execution_count": 40,
   "metadata": {},
   "outputs": [
    {
     "ename": "AttributeError",
     "evalue": "'ImageCollection' object has no attribute 'reduceRegions'",
     "output_type": "error",
     "traceback": [
      "\u001b[1;31m---------------------------------------------------------------------------\u001b[0m",
      "\u001b[1;31mAttributeError\u001b[0m                            Traceback (most recent call last)",
      "Cell \u001b[1;32mIn[40], line 1\u001b[0m\n\u001b[1;32m----> 1\u001b[0m loc_climates \u001b[38;5;241m=\u001b[39m filtered_dataset\u001b[38;5;241m.\u001b[39mreduceRegions(points, ee\u001b[38;5;241m.\u001b[39mReducer\u001b[38;5;241m.\u001b[39mfirst())\n",
      "\u001b[1;31mAttributeError\u001b[0m: 'ImageCollection' object has no attribute 'reduceRegions'"
     ]
    }
   ],
   "source": [
    "loc_climates = filtered_dataset.reduceRegions(points, ee.Reducer.first())"
   ]
  },
  {
   "cell_type": "code",
   "execution_count": null,
   "metadata": {},
   "outputs": [],
   "source": [
    "filtered_dataset.reduce()"
   ]
  },
  {
   "cell_type": "code",
   "execution_count": 23,
   "metadata": {},
   "outputs": [
    {
     "ename": "NameError",
     "evalue": "name 'pd' is not defined",
     "output_type": "error",
     "traceback": [
      "\u001b[1;31m---------------------------------------------------------------------------\u001b[0m",
      "\u001b[1;31mNameError\u001b[0m                                 Traceback (most recent call last)",
      "Cell \u001b[1;32mIn[23], line 1\u001b[0m\n\u001b[1;32m----> 1\u001b[0m ds \u001b[38;5;241m=\u001b[39m pd\u001b[38;5;241m.\u001b[39mdataframe(time_series_data[\u001b[38;5;241m1\u001b[39m:, :], columns \u001b[38;5;241m=\u001b[39m time_series_data[\u001b[38;5;241m0\u001b[39m, :])\n",
      "\u001b[1;31mNameError\u001b[0m: name 'pd' is not defined"
     ]
    }
   ],
   "source": [
    "ds = pd.dataframe(time_series_data[1:, :], columns = time_series_data[0, :])"
   ]
  },
  {
   "cell_type": "code",
   "execution_count": 30,
   "metadata": {},
   "outputs": [],
   "source": [
    "time_series_data = np.array(time_series_data)"
   ]
  },
  {
   "cell_type": "code",
   "execution_count": null,
   "metadata": {},
   "outputs": [],
   "source": [
    "time_series_data"
   ]
  },
  {
   "cell_type": "code",
   "execution_count": 24,
   "metadata": {},
   "outputs": [
    {
     "name": "stdout",
     "output_type": "stream",
     "text": [
      "781 163801\n"
     ]
    }
   ],
   "source": [
    "print(len(np.unique(np.array(time_series_data)[:, 3])), len(np.array(time_series_data)[:, 3]))"
   ]
  },
  {
   "cell_type": "code",
   "execution_count": 6,
   "metadata": {},
   "outputs": [
    {
     "ename": "EEException",
     "evalue": "Expected a homogeneous image collection, but an image with incompatible bands was encountered:\n  First image type: 27 bands ([B1, B2, B3, B4, B5, B6, B7, B8, B8A, B9, B11, B12, AOT, WVP, SCL, TCI_R, TCI_G, TCI_B, MSK_CLDPRB, MSK_SNWPRB, QA10, QA20, QA60, MSK_CLASSI_OPAQUE, MSK_CLASSI_CIRRUS, MSK_CLASSI_SNOW_ICE, NDVI]).\nCurrent image type: 27 bands ([B1, B2, B3, B4, B5, B6, B7, B8, B8A, B9, B11, B12, AOT, WVP, SCL, TCI_R, TCI_G, TCI_B, QA10, QA20, QA60, MSK_CLASSI_OPAQUE, MSK_CLASSI_CIRRUS, MSK_CLASSI_SNOW_ICE, MSK_CLDPRB, MSK_SNWPRB, NDVI]).\n          Image ID: 20170503T104021_20170503T104024_T32UNF\nSome bands might require explicit casts.",
     "output_type": "error",
     "traceback": [
      "\u001b[1;31m---------------------------------------------------------------------------\u001b[0m",
      "\u001b[1;31mHttpError\u001b[0m                                 Traceback (most recent call last)",
      "File \u001b[1;32mc:\\ProgramData\\anaconda3\\envs\\Phenology\\Lib\\site-packages\\ee\\data.py:406\u001b[0m, in \u001b[0;36m_execute_cloud_call\u001b[1;34m(call, num_retries)\u001b[0m\n\u001b[0;32m    405\u001b[0m \u001b[38;5;28;01mtry\u001b[39;00m:\n\u001b[1;32m--> 406\u001b[0m   \u001b[38;5;28;01mreturn\u001b[39;00m call\u001b[38;5;241m.\u001b[39mexecute(num_retries\u001b[38;5;241m=\u001b[39mnum_retries)\n\u001b[0;32m    407\u001b[0m \u001b[38;5;28;01mexcept\u001b[39;00m googleapiclient\u001b[38;5;241m.\u001b[39merrors\u001b[38;5;241m.\u001b[39mHttpError \u001b[38;5;28;01mas\u001b[39;00m e:\n",
      "File \u001b[1;32mc:\\ProgramData\\anaconda3\\envs\\Phenology\\Lib\\site-packages\\googleapiclient\\_helpers.py:130\u001b[0m, in \u001b[0;36mpositional.<locals>.positional_decorator.<locals>.positional_wrapper\u001b[1;34m(*args, **kwargs)\u001b[0m\n\u001b[0;32m    129\u001b[0m         logger\u001b[38;5;241m.\u001b[39mwarning(message)\n\u001b[1;32m--> 130\u001b[0m \u001b[38;5;28;01mreturn\u001b[39;00m wrapped(\u001b[38;5;241m*\u001b[39margs, \u001b[38;5;241m*\u001b[39m\u001b[38;5;241m*\u001b[39mkwargs)\n",
      "File \u001b[1;32mc:\\ProgramData\\anaconda3\\envs\\Phenology\\Lib\\site-packages\\googleapiclient\\http.py:938\u001b[0m, in \u001b[0;36mHttpRequest.execute\u001b[1;34m(self, http, num_retries)\u001b[0m\n\u001b[0;32m    937\u001b[0m \u001b[38;5;28;01mif\u001b[39;00m resp\u001b[38;5;241m.\u001b[39mstatus \u001b[38;5;241m>\u001b[39m\u001b[38;5;241m=\u001b[39m \u001b[38;5;241m300\u001b[39m:\n\u001b[1;32m--> 938\u001b[0m     \u001b[38;5;28;01mraise\u001b[39;00m HttpError(resp, content, uri\u001b[38;5;241m=\u001b[39m\u001b[38;5;28mself\u001b[39m\u001b[38;5;241m.\u001b[39muri)\n\u001b[0;32m    939\u001b[0m \u001b[38;5;28;01mreturn\u001b[39;00m \u001b[38;5;28mself\u001b[39m\u001b[38;5;241m.\u001b[39mpostproc(resp, content)\n",
      "\u001b[1;31mHttpError\u001b[0m: <HttpError 400 when requesting https://earthengine.googleapis.com/v1/projects/ee-martinparker637/value:compute?prettyPrint=false&alt=json returned \"Expected a homogeneous image collection, but an image with incompatible bands was encountered:\n  First image type: 27 bands ([B1, B2, B3, B4, B5, B6, B7, B8, B8A, B9, B11, B12, AOT, WVP, SCL, TCI_R, TCI_G, TCI_B, MSK_CLDPRB, MSK_SNWPRB, QA10, QA20, QA60, MSK_CLASSI_OPAQUE, MSK_CLASSI_CIRRUS, MSK_CLASSI_SNOW_ICE, NDVI]).\nCurrent image type: 27 bands ([B1, B2, B3, B4, B5, B6, B7, B8, B8A, B9, B11, B12, AOT, WVP, SCL, TCI_R, TCI_G, TCI_B, QA10, QA20, QA60, MSK_CLASSI_OPAQUE, MSK_CLASSI_CIRRUS, MSK_CLASSI_SNOW_ICE, MSK_CLDPRB, MSK_SNWPRB, NDVI]).\n          Image ID: 20170503T104021_20170503T104024_T32UNF\nSome bands might require explicit casts.\". Details: \"Expected a homogeneous image collection, but an image with incompatible bands was encountered:\n  First image type: 27 bands ([B1, B2, B3, B4, B5, B6, B7, B8, B8A, B9, B11, B12, AOT, WVP, SCL, TCI_R, TCI_G, TCI_B, MSK_CLDPRB, MSK_SNWPRB, QA10, QA20, QA60, MSK_CLASSI_OPAQUE, MSK_CLASSI_CIRRUS, MSK_CLASSI_SNOW_ICE, NDVI]).\nCurrent image type: 27 bands ([B1, B2, B3, B4, B5, B6, B7, B8, B8A, B9, B11, B12, AOT, WVP, SCL, TCI_R, TCI_G, TCI_B, QA10, QA20, QA60, MSK_CLASSI_OPAQUE, MSK_CLASSI_CIRRUS, MSK_CLASSI_SNOW_ICE, MSK_CLDPRB, MSK_SNWPRB, NDVI]).\n          Image ID: 20170503T104021_20170503T104024_T32UNF\nSome bands might require explicit casts.\">",
      "\nDuring handling of the above exception, another exception occurred:\n",
      "\u001b[1;31mEEException\u001b[0m                               Traceback (most recent call last)",
      "Cell \u001b[1;32mIn[6], line 2\u001b[0m\n\u001b[0;32m      1\u001b[0m \u001b[38;5;66;03m# Get the time series data for the location\u001b[39;00m\n\u001b[1;32m----> 2\u001b[0m time_series_data \u001b[38;5;241m=\u001b[39m ndvi_dataset\u001b[38;5;241m.\u001b[39mgetRegion(location, \u001b[38;5;241m30\u001b[39m)\u001b[38;5;241m.\u001b[39mgetInfo()\n",
      "File \u001b[1;32mc:\\ProgramData\\anaconda3\\envs\\Phenology\\Lib\\site-packages\\ee\\computedobject.py:107\u001b[0m, in \u001b[0;36mComputedObject.getInfo\u001b[1;34m(self)\u001b[0m\n\u001b[0;32m    101\u001b[0m \u001b[38;5;28;01mdef\u001b[39;00m \u001b[38;5;21mgetInfo\u001b[39m(\u001b[38;5;28mself\u001b[39m) \u001b[38;5;241m-\u001b[39m\u001b[38;5;241m>\u001b[39m Optional[Any]:\n\u001b[0;32m    102\u001b[0m \u001b[38;5;250m  \u001b[39m\u001b[38;5;124;03m\"\"\"Fetch and return information about this object.\u001b[39;00m\n\u001b[0;32m    103\u001b[0m \n\u001b[0;32m    104\u001b[0m \u001b[38;5;124;03m  Returns:\u001b[39;00m\n\u001b[0;32m    105\u001b[0m \u001b[38;5;124;03m    The object can evaluate to anything.\u001b[39;00m\n\u001b[0;32m    106\u001b[0m \u001b[38;5;124;03m  \"\"\"\u001b[39;00m\n\u001b[1;32m--> 107\u001b[0m   \u001b[38;5;28;01mreturn\u001b[39;00m data\u001b[38;5;241m.\u001b[39mcomputeValue(\u001b[38;5;28mself\u001b[39m)\n",
      "File \u001b[1;32mc:\\ProgramData\\anaconda3\\envs\\Phenology\\Lib\\site-packages\\ee\\data.py:1126\u001b[0m, in \u001b[0;36mcomputeValue\u001b[1;34m(obj)\u001b[0m\n\u001b[0;32m   1123\u001b[0m body \u001b[38;5;241m=\u001b[39m {\u001b[38;5;124m'\u001b[39m\u001b[38;5;124mexpression\u001b[39m\u001b[38;5;124m'\u001b[39m: serializer\u001b[38;5;241m.\u001b[39mencode(obj, for_cloud_api\u001b[38;5;241m=\u001b[39m\u001b[38;5;28;01mTrue\u001b[39;00m)}\n\u001b[0;32m   1124\u001b[0m _maybe_populate_workload_tag(body)\n\u001b[1;32m-> 1126\u001b[0m \u001b[38;5;28;01mreturn\u001b[39;00m _execute_cloud_call(\n\u001b[0;32m   1127\u001b[0m     _get_cloud_projects()\n\u001b[0;32m   1128\u001b[0m     \u001b[38;5;241m.\u001b[39mvalue()\n\u001b[0;32m   1129\u001b[0m     \u001b[38;5;241m.\u001b[39mcompute(body\u001b[38;5;241m=\u001b[39mbody, project\u001b[38;5;241m=\u001b[39m_get_projects_path(), prettyPrint\u001b[38;5;241m=\u001b[39m\u001b[38;5;28;01mFalse\u001b[39;00m)\n\u001b[0;32m   1130\u001b[0m )[\u001b[38;5;124m'\u001b[39m\u001b[38;5;124mresult\u001b[39m\u001b[38;5;124m'\u001b[39m]\n",
      "File \u001b[1;32mc:\\ProgramData\\anaconda3\\envs\\Phenology\\Lib\\site-packages\\ee\\data.py:408\u001b[0m, in \u001b[0;36m_execute_cloud_call\u001b[1;34m(call, num_retries)\u001b[0m\n\u001b[0;32m    406\u001b[0m   \u001b[38;5;28;01mreturn\u001b[39;00m call\u001b[38;5;241m.\u001b[39mexecute(num_retries\u001b[38;5;241m=\u001b[39mnum_retries)\n\u001b[0;32m    407\u001b[0m \u001b[38;5;28;01mexcept\u001b[39;00m googleapiclient\u001b[38;5;241m.\u001b[39merrors\u001b[38;5;241m.\u001b[39mHttpError \u001b[38;5;28;01mas\u001b[39;00m e:\n\u001b[1;32m--> 408\u001b[0m   \u001b[38;5;28;01mraise\u001b[39;00m _translate_cloud_exception(e)\n",
      "\u001b[1;31mEEException\u001b[0m: Expected a homogeneous image collection, but an image with incompatible bands was encountered:\n  First image type: 27 bands ([B1, B2, B3, B4, B5, B6, B7, B8, B8A, B9, B11, B12, AOT, WVP, SCL, TCI_R, TCI_G, TCI_B, MSK_CLDPRB, MSK_SNWPRB, QA10, QA20, QA60, MSK_CLASSI_OPAQUE, MSK_CLASSI_CIRRUS, MSK_CLASSI_SNOW_ICE, NDVI]).\nCurrent image type: 27 bands ([B1, B2, B3, B4, B5, B6, B7, B8, B8A, B9, B11, B12, AOT, WVP, SCL, TCI_R, TCI_G, TCI_B, QA10, QA20, QA60, MSK_CLASSI_OPAQUE, MSK_CLASSI_CIRRUS, MSK_CLASSI_SNOW_ICE, MSK_CLDPRB, MSK_SNWPRB, NDVI]).\n          Image ID: 20170503T104021_20170503T104024_T32UNF\nSome bands might require explicit casts."
     ]
    }
   ],
   "source": [
    "# Get the time series data for the location\n",
    "time_series_data = ndvi_dataset.getRegion(location, 30).getInfo()\n"
   ]
  },
  {
   "cell_type": "code",
   "execution_count": null,
   "metadata": {},
   "outputs": [],
   "source": [
    "\n",
    "# Extract the time property separately and format it\n",
    "time_values = [item[0] for item in time_series_data[1:]]\n",
    "time_values = pd.to_datetime([item.split('_')[-1] for item in time_values], format='%Y%m%d')\n",
    "# Create a pandas DataFrame from the time series data (excluding time)\n",
    "df = pd.DataFrame([item[1:] for item in time_series_data[1:]], columns=time_series_data[0][1:])\n",
    "df['time'] = time_values"
   ]
  },
  {
   "cell_type": "code",
   "execution_count": null,
   "metadata": {},
   "outputs": [],
   "source": []
  }
 ],
 "metadata": {
  "kernelspec": {
   "display_name": "earthengine_venv",
   "language": "python",
   "name": "earthengine_venv"
  },
  "language_info": {
   "codemirror_mode": {
    "name": "ipython",
    "version": 3
   },
   "file_extension": ".py",
   "mimetype": "text/x-python",
   "name": "python",
   "nbconvert_exporter": "python",
   "pygments_lexer": "ipython3",
   "version": "3.11.9"
  },
  "nbdime-conflicts": {
   "local_diff": [
    {
     "diff": [
      {
       "diff": [
        {
         "diff": [
          {
           "key": 5,
           "op": "addrange",
           "valuelist": "9"
          },
          {
           "key": 5,
           "length": 2,
           "op": "removerange"
          }
         ],
         "key": 0,
         "op": "patch"
        }
       ],
       "key": "version",
       "op": "patch"
      }
     ],
     "key": "language_info",
     "op": "patch"
    }
   ],
   "remote_diff": [
    {
     "diff": [
      {
       "diff": [
        {
         "diff": [
          {
           "key": 6,
           "op": "addrange",
           "valuelist": "1"
          },
          {
           "key": 6,
           "length": 1,
           "op": "removerange"
          }
         ],
         "key": 0,
         "op": "patch"
        }
       ],
       "key": "version",
       "op": "patch"
      }
     ],
     "key": "language_info",
     "op": "patch"
    }
   ]
  }
 },
 "nbformat": 4,
 "nbformat_minor": 4
}
